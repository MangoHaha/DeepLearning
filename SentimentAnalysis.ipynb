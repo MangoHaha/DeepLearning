{
  "nbformat": 4,
  "nbformat_minor": 0,
  "metadata": {
    "colab": {
      "name": "SentimentAnalysis.ipynb",
      "version": "0.3.2",
      "provenance": [],
      "include_colab_link": true
    },
    "kernelspec": {
      "name": "python3",
      "display_name": "Python 3"
    },
    "accelerator": "GPU"
  },
  "cells": [
    {
      "cell_type": "markdown",
      "metadata": {
        "id": "view-in-github",
        "colab_type": "text"
      },
      "source": [
        "<a href=\"https://colab.research.google.com/github/MangoHaha/SentimentAnalysis/blob/investigate_new_Arch/SentimentAnalysis.ipynb\" target=\"_parent\"><img src=\"https://colab.research.google.com/assets/colab-badge.svg\" alt=\"Open In Colab\"/></a>"
      ]
    },
    {
      "metadata": {
        "_uuid": "839fc1317e1b7253241839bbfa2d40303c53a3f1",
        "id": "CDx4CA09GZG8",
        "colab_type": "text"
      },
      "cell_type": "markdown",
      "source": [
        "## General information\n",
        "\n",
        "In this kernel I'll work with data from Movie Review Sentiment Analysis Playground Competition.\n",
        "\n",
        "This dataset is interesting for NLP researching. Sentences from original dataset were split in separate phrases and each of them has a sentiment label. Also a lot of phrases are really short which makes classifying them quite challenging. Let's try!"
      ]
    },
    {
      "metadata": {
        "id": "Vq4S5_HIGpBc",
        "colab_type": "code",
        "colab": {
          "base_uri": "https://localhost:8080/",
          "height": 136
        },
        "outputId": "ad99e139-b352-44db-9756-48e24f1df451"
      },
      "cell_type": "code",
      "source": [
        "!pip install lightgbm wordcloud"
      ],
      "execution_count": 3,
      "outputs": [
        {
          "output_type": "stream",
          "text": [
            "Requirement already satisfied: lightgbm in /usr/local/lib/python3.6/dist-packages (2.2.1)\n",
            "Requirement already satisfied: wordcloud in /usr/local/lib/python3.6/dist-packages (1.5.0)\n",
            "Requirement already satisfied: scipy in /usr/local/lib/python3.6/dist-packages (from lightgbm) (0.19.1)\n",
            "Requirement already satisfied: numpy in /usr/local/lib/python3.6/dist-packages (from lightgbm) (1.14.6)\n",
            "Requirement already satisfied: scikit-learn in /usr/local/lib/python3.6/dist-packages (from lightgbm) (0.19.2)\n",
            "Requirement already satisfied: pillow in /usr/local/lib/python3.6/dist-packages (from wordcloud) (4.0.0)\n",
            "Requirement already satisfied: olefile in /usr/local/lib/python3.6/dist-packages (from pillow->wordcloud) (0.46)\n"
          ],
          "name": "stdout"
        }
      ]
    },
    {
      "metadata": {
        "_uuid": "8f2839f25d086af736a60e9eeb907d3b93b6e0e5",
        "_cell_guid": "b1076dfc-b9ad-4769-8c92-a6c4dae69d19",
        "trusted": true,
        "_kg_hide-input": true,
        "id": "9K7leB0DGZG9",
        "colab_type": "code",
        "colab": {
          "base_uri": "https://localhost:8080/",
          "height": 51
        },
        "outputId": "7c751db2-0d80-49d1-c5ed-28d274e8aca5"
      },
      "cell_type": "code",
      "source": [
        "import numpy as np\n",
        "import pandas as pd\n",
        "import matplotlib.pyplot as plt\n",
        "import seaborn as sns\n",
        "%matplotlib inline\n",
        "\n",
        "from nltk.tokenize import TweetTokenizer\n",
        "import datetime\n",
        "import lightgbm as lgb\n",
        "from scipy import stats\n",
        "from scipy.sparse import hstack, csr_matrix\n",
        "from sklearn.model_selection import train_test_split, cross_val_score\n",
        "from wordcloud import WordCloud\n",
        "from collections import Counter\n",
        "from nltk.corpus import stopwords\n",
        "from nltk.util import ngrams\n",
        "from sklearn.feature_extraction.text import TfidfVectorizer\n",
        "from sklearn.preprocessing import StandardScaler\n",
        "from sklearn.linear_model import LogisticRegression\n",
        "from sklearn.svm import LinearSVC\n",
        "from sklearn.multiclass import OneVsRestClassifier\n",
        "pd.set_option('max_colwidth',400)\n",
        "from google.colab import drive\n",
        "import nltk\n",
        "nltk.download('stopwords')\n",
        "from google.colab import files\n"
      ],
      "execution_count": 4,
      "outputs": [
        {
          "output_type": "stream",
          "text": [
            "[nltk_data] Downloading package stopwords to /root/nltk_data...\n",
            "[nltk_data]   Package stopwords is already up-to-date!\n"
          ],
          "name": "stdout"
        }
      ]
    },
    {
      "metadata": {
        "id": "NOvuWhQPLPmH",
        "colab_type": "code",
        "colab": {
          "base_uri": "https://localhost:8080/",
          "height": 122
        },
        "outputId": "b183c48a-463c-4780-c45c-c0d301b62904"
      },
      "cell_type": "code",
      "source": [
        "from google.colab import drive\n",
        "drive.mount('/content/drive')\n"
      ],
      "execution_count": 3,
      "outputs": [
        {
          "output_type": "stream",
          "text": [
            "Go to this URL in a browser: https://accounts.google.com/o/oauth2/auth?client_id=947318989803-6bn6qk8qdgf4n4g3pfee6491hc0brc4i.apps.googleusercontent.com&redirect_uri=urn%3Aietf%3Awg%3Aoauth%3A2.0%3Aoob&scope=email%20https%3A%2F%2Fwww.googleapis.com%2Fauth%2Fdocs.test%20https%3A%2F%2Fwww.googleapis.com%2Fauth%2Fdrive%20https%3A%2F%2Fwww.googleapis.com%2Fauth%2Fdrive.photos.readonly%20https%3A%2F%2Fwww.googleapis.com%2Fauth%2Fpeopleapi.readonly&response_type=code\n",
            "\n",
            "Enter your authorization code:\n",
            "··········\n",
            "Mounted at /content/drive\n"
          ],
          "name": "stdout"
        }
      ]
    },
    {
      "metadata": {
        "id": "A33LQkFPNeDH",
        "colab_type": "code",
        "colab": {
          "base_uri": "https://localhost:8080/",
          "height": 85
        },
        "outputId": "06d5ccb2-bcb2-4f09-ddf3-556fefb4571c"
      },
      "cell_type": "code",
      "source": [
        "!ls \"/content/drive/My Drive/DeepLearning\""
      ],
      "execution_count": 5,
      "outputs": [
        {
          "output_type": "stream",
          "text": [
            "Andrew_best_model.csv\tcrawl-300d-2M.vec\t   train.tsv\n",
            "Andrew_best_model.hdf5\tglove.twitter.27B.25d.txt  well_trained_model.hdf5\n",
            "best_model.hdf5\t\tsampleSubmission.csv\n",
            "blend.csv\t\ttest.tsv\n"
          ],
          "name": "stdout"
        }
      ]
    },
    {
      "metadata": {
        "_cell_guid": "79c7e3d0-c299-4dcb-8224-4455121ee9b0",
        "_uuid": "d629ff2d2480ee46fbb7e2d37f6b5fab8052498a",
        "trusted": true,
        "scrolled": true,
        "id": "Qp7EQ0TrGZHB",
        "colab_type": "code",
        "colab": {}
      },
      "cell_type": "code",
      "source": [
        "\n",
        "train = pd.read_csv('/content/drive/My Drive/DeepLearning/train.tsv', sep=\"\\t\")\n",
        "test = pd.read_csv('/content/drive/My Drive/DeepLearning/test.tsv', sep=\"\\t\")\n",
        "sub = pd.read_csv('/content/drive/My Drive/DeepLearning/sampleSubmission.csv', sep=\",\")\n",
        "y = train['Sentiment']"
      ],
      "execution_count": 0,
      "outputs": []
    },
    {
      "metadata": {
        "trusted": true,
        "_uuid": "f9b8d8423bb09068cb168b67f4756ee8b250fc8c",
        "id": "xBg-49HYGZHE",
        "colab_type": "code",
        "colab": {}
      },
      "cell_type": "code",
      "source": [
        "train.head(10)"
      ],
      "execution_count": 0,
      "outputs": []
    },
    {
      "metadata": {
        "trusted": true,
        "_uuid": "e94f8371d8be87186f23ecc75178480d3d96bd78",
        "id": "AE2gjhWFGZHL",
        "colab_type": "code",
        "colab": {}
      },
      "cell_type": "code",
      "source": [
        "train.loc[train.SentenceId == 2]"
      ],
      "execution_count": 0,
      "outputs": []
    },
    {
      "metadata": {
        "trusted": true,
        "_uuid": "4f75e24b86e3aeb7477fa1cd69789992233420b1",
        "id": "WUMsIz3fGZHN",
        "colab_type": "code",
        "colab": {}
      },
      "cell_type": "code",
      "source": [
        "print('Average count of phrases per sentence in train is {0:.0f}.'.format(train.groupby('SentenceId')['Phrase'].count().mean()))\n",
        "print('Average count of phrases per sentence in test is {0:.0f}.'.format(test.groupby('SentenceId')['Phrase'].count().mean()))"
      ],
      "execution_count": 0,
      "outputs": []
    },
    {
      "metadata": {
        "trusted": true,
        "_uuid": "ca3148a6bbdd0f71e4909feb5dca874fa6d64a2e",
        "id": "82tj6yniGZHQ",
        "colab_type": "code",
        "colab": {
          "base_uri": "https://localhost:8080/",
          "height": 51
        },
        "outputId": "0443a1d3-88f0-4be9-8b8d-5c773b1ef5bb"
      },
      "cell_type": "code",
      "source": [
        "print('Number of phrases in train: {}. Number of sentences in train: {}.'.format(train.shape[0], len(train.SentenceId.unique())))\n",
        "print('Number of phrases in test: {}. Number of sentences in test: {}.'.format(test.shape[0], len(test.SentenceId.unique())))"
      ],
      "execution_count": 10,
      "outputs": [
        {
          "output_type": "stream",
          "text": [
            "Number of phrases in train: 156060. Number of sentences in train: 8529.\n",
            "Number of phrases in test: 66292. Number of sentences in test: 3310.\n"
          ],
          "name": "stdout"
        }
      ]
    },
    {
      "metadata": {
        "trusted": true,
        "_uuid": "bef53d8f659b78e3fc6b1ed07025591d55b7c128",
        "id": "jlqd1ZRtGZHU",
        "colab_type": "code",
        "colab": {
          "base_uri": "https://localhost:8080/",
          "height": 51
        },
        "outputId": "efa92928-522e-486b-ef9d-4ef835b54ced"
      },
      "cell_type": "code",
      "source": [
        "print('Average word length of phrases in train is {0:.0f}.'.format(np.mean(train['Phrase'].apply(lambda x: len(x.split())))))\n",
        "print('Average word length of phrases in test is {0:.0f}.'.format(np.mean(test['Phrase'].apply(lambda x: len(x.split())))))"
      ],
      "execution_count": 11,
      "outputs": [
        {
          "output_type": "stream",
          "text": [
            "Average word length of phrases in train is 7.\n",
            "Average word length of phrases in test is 7.\n"
          ],
          "name": "stdout"
        }
      ]
    },
    {
      "metadata": {
        "_uuid": "9ee27697b41dfdca9cdb482bfc85cfd3d63ae6e2",
        "id": "hWLkVYcCGZHY",
        "colab_type": "text"
      },
      "cell_type": "markdown",
      "source": [
        "We can see than sentences were split in 18-20 phrases at average and a lot of phrases contain each other. Sometimes one word or even one punctuation mark influences the sentiment"
      ]
    },
    {
      "metadata": {
        "trusted": true,
        "_uuid": "9d1efbed65f250d37472544f4fe37cb6fd13e183",
        "collapsed": true,
        "id": "LNCjPzRnGZHZ",
        "colab_type": "text"
      },
      "cell_type": "markdown",
      "source": [
        "Let's see for example most common trigrams for positive phrases"
      ]
    },
    {
      "metadata": {
        "_uuid": "f59db6ed32fafb024728fd95b96157f278682a74",
        "id": "KZBtEbGKGZHq",
        "colab_type": "text"
      },
      "cell_type": "markdown",
      "source": [
        "The results show the main problem with this dataset: there are to many common words due to sentenced splitted in phrases. As a result stopwords shouldn't be removed from text."
      ]
    },
    {
      "metadata": {
        "_uuid": "10dc8fc8d535ef492a3dab1b85b4052feec756ee",
        "id": "4qTvvMwYGZHq",
        "colab_type": "text"
      },
      "cell_type": "markdown",
      "source": [
        "### Thoughts on feature processing and engineering"
      ]
    },
    {
      "metadata": {
        "_uuid": "d5d018a694d10cbd9e8e89c26d5227fdb9cf8c0b",
        "id": "lUzx6-B0GZHr",
        "colab_type": "text"
      },
      "cell_type": "markdown",
      "source": [
        "So, we have only phrases as data. And a phrase can contain a single word. And one punctuation mark can cause phrase to receive a different sentiment. Also assigned sentiments can be strange. This means several things:\n",
        "- using stopwords can be a bad idea, especially when phrases contain one single stopword;\n",
        "- puntuation could be important, so it should be used;\n",
        "- ngrams are necessary to get the most info from data;\n",
        "- using features like word count or sentence length won't be useful;"
      ]
    },
    {
      "metadata": {
        "_uuid": "398461363c7a395e2a982e07e8ac6fccaee139c1",
        "id": "D-qyZxyVGZIG",
        "colab_type": "text"
      },
      "cell_type": "markdown",
      "source": [
        "## Deep learning\n",
        "And now let's try DL. DL should work better for text classification with multiple layers. I use an architecture similar to those which were used in toxic competition."
      ]
    },
    {
      "metadata": {
        "trusted": true,
        "_uuid": "eb29ec027df57f6597dbef976645dc8d151e1618",
        "id": "AwnzDD_0GZIH",
        "colab_type": "code",
        "colab": {
          "base_uri": "https://localhost:8080/",
          "height": 34
        },
        "outputId": "d83582bf-dd5a-4b3b-aeb0-318cbf5e8445"
      },
      "cell_type": "code",
      "source": [
        "from keras.preprocessing.text import Tokenizer\n",
        "from keras.preprocessing.sequence import pad_sequences\n",
        "from keras.layers import Dense, Input, LSTM, Embedding, Dropout, Activation, Conv1D, GRU, CuDNNGRU, CuDNNLSTM, BatchNormalization\n",
        "from keras.layers import Bidirectional, GlobalMaxPool1D, MaxPooling1D, Add, Flatten\n",
        "from keras.layers import GlobalAveragePooling1D, GlobalMaxPooling1D, concatenate, SpatialDropout1D\n",
        "from keras.models import Model, load_model\n",
        "from keras import initializers, regularizers, constraints, optimizers, layers, callbacks\n",
        "from keras import backend as K\n",
        "from keras.engine import InputSpec, Layer\n",
        "from keras.optimizers import Adam\n",
        "\n",
        "from keras.callbacks import ModelCheckpoint, TensorBoard, Callback, EarlyStopping"
      ],
      "execution_count": 9,
      "outputs": [
        {
          "output_type": "stream",
          "text": [
            "Using TensorFlow backend.\n"
          ],
          "name": "stderr"
        }
      ]
    },
    {
      "metadata": {
        "trusted": true,
        "_uuid": "a2881c29f82578b4a373b52d2c7b96a2e73bfd80",
        "id": "TP2z0XJhGZIL",
        "colab_type": "code",
        "colab": {}
      },
      "cell_type": "code",
      "source": [
        "tk = Tokenizer(lower = True, filters='')\n",
        "full_text = list(train['Phrase'].values) + list(test['Phrase'].values)\n",
        "tk.fit_on_texts(full_text)\n",
        "train_tokenized = tk.texts_to_sequences(train['Phrase'])\n",
        "test_tokenized = tk.texts_to_sequences(test['Phrase'])"
      ],
      "execution_count": 0,
      "outputs": []
    },
    {
      "metadata": {
        "trusted": true,
        "_uuid": "bcb80cf8a59ca779a0be1ab235a1e9da2f4b175b",
        "id": "b6bErvirGZIP",
        "colab_type": "code",
        "colab": {}
      },
      "cell_type": "code",
      "source": [
        "max_len = 50\n",
        "X_train = pad_sequences(train_tokenized, maxlen = max_len)\n",
        "X_test = pad_sequences(test_tokenized, maxlen = max_len)"
      ],
      "execution_count": 0,
      "outputs": []
    },
    {
      "metadata": {
        "trusted": true,
        "_uuid": "9dfd0b8fa2c79bfa206d2fe8e35fbec444418f5c",
        "id": "x2VpwGsgGZIS",
        "colab_type": "code",
        "colab": {}
      },
      "cell_type": "code",
      "source": [
        "embedding_path = \"/content/drive/My Drive/DeepLearning/crawl-300d-2M.vec\"\n",
        "#embedding_path = \"/content/drive/My Drive/DeepLearning/glove.twitter.27B.25d.txt\"\n",
        "#embed_size = 25\n",
        "embed_size = 300\n",
        "max_features = 30000\n",
        "\n",
        "def get_coefs(word,*arr): return word, np.asarray(arr, dtype='float32')\n",
        "embedding_index = dict(get_coefs(*o.strip().split(\" \")) for o in open(embedding_path))\n",
        "\n",
        "word_index = tk.word_index\n",
        "nb_words = min(max_features, len(word_index))\n",
        "embedding_matrix = np.zeros((nb_words + 1, embed_size))\n",
        "for word, i in word_index.items():\n",
        "    if i >= max_features: continue\n",
        "    embedding_vector = embedding_index.get(word)\n",
        "    if embedding_vector is not None: embedding_matrix[i] = embedding_vector"
      ],
      "execution_count": 0,
      "outputs": []
    },
    {
      "metadata": {
        "trusted": true,
        "_uuid": "365c0d607d55a78c5890268b9c168eb12a211855",
        "id": "4AlRADppGZIa",
        "colab_type": "code",
        "colab": {
          "base_uri": "https://localhost:8080/",
          "height": 51
        },
        "outputId": "70ab8899-255c-4a36-caaf-c7d6bf774b6c"
      },
      "cell_type": "code",
      "source": [
        "from sklearn.preprocessing import OneHotEncoder\n",
        "ohe = OneHotEncoder(sparse=False)\n",
        "y_ohe = ohe.fit_transform(y.values.reshape(-1, 1))\n",
        "ohe.fit(train[\"Sentiment\"].values.reshape(-1, 1))"
      ],
      "execution_count": 13,
      "outputs": [
        {
          "output_type": "execute_result",
          "data": {
            "text/plain": [
              "OneHotEncoder(categorical_features='all', dtype=<class 'numpy.float64'>,\n",
              "       handle_unknown='error', n_values='auto', sparse=False)"
            ]
          },
          "metadata": {
            "tags": []
          },
          "execution_count": 13
        }
      ]
    },
    {
      "metadata": {
        "id": "q7cn0Rl5R6KJ",
        "colab_type": "text"
      },
      "cell_type": "markdown",
      "source": [
        "K folds Validation"
      ]
    },
    {
      "metadata": {
        "id": "ORe-QBNgR8xT",
        "colab_type": "code",
        "colab": {}
      },
      "cell_type": "code",
      "source": [
        "NUM_FOLDS = 5\n",
        "train[\"fold_id\"] = train[\"SentenceId\"].apply(lambda x: x%NUM_FOLDS)\n"
      ],
      "execution_count": 0,
      "outputs": []
    },
    {
      "metadata": {
        "_uuid": "95f52b1f6de4e939c8d21e3525503912282fbd47",
        "id": "fdY5hCa9GZIf",
        "colab_type": "text"
      },
      "cell_type": "markdown",
      "source": [
        "An attempt at ensemble:"
      ]
    },
    {
      "metadata": {
        "trusted": true,
        "_uuid": "8187e167ce93f0eb69f59cb9d7fedc4637a77cfe",
        "id": "jUBolZU1GZIl",
        "colab_type": "code",
        "colab": {}
      },
      "cell_type": "code",
      "source": [
        "def build_model1(lr=0.0, lr_d=0.0, units=0, spatial_dr=0.0, kernel_size1=3, kernel_size2=2, dense_units=128, dr=0.1, conv_size=32):\n",
        "    #file_path = \"/content/drive/My Drive/DeepLearning/best_model.hdf5\"\n",
        "    #check_point = ModelCheckpoint(file_path, monitor = \"val_loss\", verbose = 1,\n",
        "    #                              save_best_only = True, mode = \"min\")\n",
        "    #early_stop = EarlyStopping(monitor = \"val_loss\", mode = \"min\", patience = 3)\n",
        "\n",
        "    inp = Input(shape = (max_len,))\n",
        "    x = Embedding(19479, embed_size, weights = [embedding_matrix], trainable = False)(inp)\n",
        "    x1 = SpatialDropout1D(spatial_dr)(x)\n",
        "\n",
        "    x_gru = Bidirectional(CuDNNGRU(units, return_sequences = True))(x1)\n",
        "    x_lstm = Bidirectional(CuDNNLSTM(units, return_sequences = True))(x1)\n",
        "    \n",
        "    x_conv1 = Conv1D(conv_size, kernel_size=kernel_size1, padding='valid', kernel_initializer='he_uniform')(x_gru)\n",
        "    avg_pool1_gru = GlobalAveragePooling1D()(x_conv1)\n",
        "    max_pool1_gru = GlobalMaxPooling1D()(x_conv1)\n",
        "    \n",
        "    x_conv2 = Conv1D(conv_size, kernel_size=kernel_size2, padding='valid', kernel_initializer='he_uniform')(x_gru)\n",
        "    avg_pool2_gru = GlobalAveragePooling1D()(x_conv2)\n",
        "    max_pool2_gru = GlobalMaxPooling1D()(x_conv2)\n",
        "    \n",
        "    \n",
        "    x_conv3 = Conv1D(conv_size, kernel_size=kernel_size1, padding='valid', kernel_initializer='he_uniform')(x_lstm)\n",
        "    avg_pool1_lstm = GlobalAveragePooling1D()(x_conv3)\n",
        "    max_pool1_lstm = GlobalMaxPooling1D()(x_conv3)\n",
        "    \n",
        "    x_conv4 = Conv1D(conv_size, kernel_size=kernel_size2, padding='valid', kernel_initializer='he_uniform')(x_lstm)\n",
        "    avg_pool2_lstm = GlobalAveragePooling1D()(x_conv4)\n",
        "    max_pool2_lstm = GlobalMaxPooling1D()(x_conv4)\n",
        "    \n",
        "    \n",
        "    x = concatenate([avg_pool1_gru, max_pool1_gru, avg_pool2_gru, max_pool2_gru,\n",
        "                    avg_pool1_lstm, max_pool1_lstm, avg_pool2_lstm, max_pool2_lstm])\n",
        "    x = BatchNormalization()(x)\n",
        "    x = Dropout(dr)(Dense(dense_units, activation='relu') (x))\n",
        "    x = BatchNormalization()(x)\n",
        "    x = Dropout(dr)(Dense(int(dense_units / 2), activation='relu') (x))\n",
        "    x = Dense(5, activation = \"sigmoid\")(x)\n",
        "    model = Model(inputs = inp, outputs = x)\n",
        "    model.compile(loss = \"binary_crossentropy\", optimizer = Adam(lr = lr, decay = lr_d), metrics = [\"accuracy\"])\n",
        "    #history = model.fit(X_train, y_ohe, batch_size = 128, epochs = 1, validation_split=0.1, \n",
        "    #                    verbose = 1, callbacks = [check_point, early_stop])\n",
        "    #model = load_model(file_path)\n",
        "    return model"
      ],
      "execution_count": 0,
      "outputs": []
    },
    {
      "metadata": {
        "trusted": true,
        "_uuid": "bf6d8d367c5adc30e00bbd77c1de70fd52960441",
        "id": "sCmRToDbGZIq",
        "colab_type": "code",
        "colab": {
          "base_uri": "https://localhost:8080/",
          "height": 102
        },
        "outputId": "ef4b6b9c-0729-4d2a-f591-e81c0e8aa8f3"
      },
      "cell_type": "code",
      "source": [
        "trained_model1 = build_model1(lr = 1e-3, lr_d = 0, units = 64, spatial_dr = 0.5, kernel_size1=3, kernel_size2=3, dense_units=64, dr=0.3, conv_size=32)"
      ],
      "execution_count": 15,
      "outputs": [
        {
          "output_type": "stream",
          "text": [
            "Train on 140454 samples, validate on 15606 samples\n",
            "Epoch 1/1\n",
            "140454/140454 [==============================] - 79s 562us/step - loss: 0.3656 - acc: 0.8371 - val_loss: 0.3208 - val_acc: 0.8507\n",
            "\n",
            "Epoch 00001: val_loss improved from inf to 0.32080, saving model to /content/drive/My Drive/DeepLearning/best_model.hdf5\n"
          ],
          "name": "stdout"
        }
      ]
    },
    {
      "metadata": {
        "id": "O9OLbhyJTfMc",
        "colab_type": "code",
        "colab": {
          "base_uri": "https://localhost:8080/",
          "height": 731
        },
        "outputId": "245fbab3-472d-4f64-dba9-c8e7a524fc5a"
      },
      "cell_type": "code",
      "source": [
        "test_preds = np.zeros((test.shape[0], 5))\n",
        "file_path = \"/content/drive/My Drive/DeepLearning/best_model.hdf5\"\n",
        "check_point = ModelCheckpoint(file_path, monitor = \"val_loss\", verbose = 1,\n",
        "                              save_best_only = True, mode = \"min\")\n",
        "\n",
        "for i in range(NUM_FOLDS):\n",
        "    print(\"FOLD\", i+1)\n",
        "    \n",
        "    print(\"Splitting the data into train and validation...\")\n",
        "    train_seq, val_seq = X_train[train[\"fold_id\"] != i], X_train[train[\"fold_id\"] == i]\n",
        "    y_train = ohe.transform(train[train[\"fold_id\"] != i][\"Sentiment\"].values.reshape(-1, 1))\n",
        "    y_val = ohe.transform(train[train[\"fold_id\"] == i][\"Sentiment\"].values.reshape(-1, 1))\n",
        "    \n",
        "    print(\"Building the model...\")\n",
        "    model = build_model1(lr = 1e-3, lr_d = 0, units = 64, spatial_dr = 0.5, kernel_size1=3, kernel_size2=3, dense_units=64, dr=0.3, conv_size=32)\n",
        "        \n",
        "    print(\"Training the model...\")\n",
        "    early_stop = EarlyStopping(monitor = \"val_loss\", mode = \"min\", patience = 2)\n",
        "\n",
        "    model.fit(train_seq, y_train, validation_data = (val_seq, y_val), batch_size = 128, epochs = 15, \n",
        "                        verbose = 15, callbacks = [check_point, early_stop])    \n",
        "    print(\"Predicting...\")\n",
        "    test_preds += model.predict([X_test], batch_size=1024, verbose=1)\n",
        "    print()\n",
        "model = load_model(file_path)    \n",
        "test_preds /= NUM_FOLDS"
      ],
      "execution_count": 0,
      "outputs": [
        {
          "output_type": "stream",
          "text": [
            "FOLD 1\n",
            "Splitting the data into train and validation...\n",
            "Building the model...\n",
            "Training the model...\n",
            "Train on 125230 samples, validate on 30830 samples\n",
            "Epoch 1/15\n",
            "\n",
            "Epoch 00001: val_loss improved from inf to 0.31006, saving model to /content/drive/My Drive/DeepLearning/best_model.hdf5\n",
            "Epoch 2/15\n",
            "\n",
            "Epoch 00002: val_loss improved from 0.31006 to 0.30595, saving model to /content/drive/My Drive/DeepLearning/best_model.hdf5\n",
            "Epoch 3/15\n",
            "\n",
            "Epoch 00003: val_loss improved from 0.30595 to 0.30128, saving model to /content/drive/My Drive/DeepLearning/best_model.hdf5\n",
            "Epoch 4/15\n",
            "\n",
            "Epoch 00004: val_loss improved from 0.30128 to 0.29594, saving model to /content/drive/My Drive/DeepLearning/best_model.hdf5\n",
            "Epoch 5/15\n",
            "\n",
            "Epoch 00005: val_loss did not improve from 0.29594\n",
            "Epoch 6/15\n",
            "\n",
            "Epoch 00006: val_loss improved from 0.29594 to 0.29125, saving model to /content/drive/My Drive/DeepLearning/best_model.hdf5\n",
            "Epoch 7/15\n",
            "\n",
            "Epoch 00007: val_loss improved from 0.29125 to 0.29070, saving model to /content/drive/My Drive/DeepLearning/best_model.hdf5\n",
            "Epoch 8/15\n",
            "\n",
            "Epoch 00008: val_loss improved from 0.29070 to 0.28830, saving model to /content/drive/My Drive/DeepLearning/best_model.hdf5\n",
            "Epoch 9/15\n",
            "\n",
            "Epoch 00009: val_loss improved from 0.28830 to 0.28771, saving model to /content/drive/My Drive/DeepLearning/best_model.hdf5\n",
            "Epoch 10/15\n",
            "\n",
            "Epoch 00010: val_loss did not improve from 0.28771\n",
            "Epoch 11/15\n",
            "\n",
            "Epoch 00011: val_loss improved from 0.28771 to 0.28749, saving model to /content/drive/My Drive/DeepLearning/best_model.hdf5\n",
            "Epoch 12/15\n",
            "\n",
            "Epoch 00012: val_loss did not improve from 0.28749\n",
            "Epoch 13/15\n"
          ],
          "name": "stdout"
        }
      ]
    },
    {
      "metadata": {
        "id": "y6G82yYTNxe0",
        "colab_type": "code",
        "colab": {}
      },
      "cell_type": "code",
      "source": [
        "pred = trained_model1.predict(X_test, batch_size = 1024, verbose = 1)\n",
        "sub = pd.read_csv('/content/drive/My Drive/DeepLearning/sampleSubmission.csv', sep=\",\")\n",
        "predictions = np.round(np.argmax(pred, axis=1)).astype(int)\n",
        "sub['Sentiment'] = predictions\n",
        "print(sub['Sentiment'])\n",
        "sub.to_csv(\"/content/drive/My Drive/DeepLearning/blend.csv\", index=False)"
      ],
      "execution_count": 0,
      "outputs": []
    },
    {
      "metadata": {
        "id": "9I07QVa8OYB4",
        "colab_type": "text"
      },
      "cell_type": "markdown",
      "source": [
        "Print the Arch of trained model"
      ]
    },
    {
      "metadata": {
        "id": "yrvsOTvmOPvZ",
        "colab_type": "code",
        "colab": {
          "base_uri": "https://localhost:8080/",
          "height": 1105
        },
        "outputId": "2cc4f555-8a55-483e-ebd2-3a41fb6cbd4a"
      },
      "cell_type": "code",
      "source": [
        "trained_model1.summary()\n",
        "\n"
      ],
      "execution_count": 16,
      "outputs": [
        {
          "output_type": "stream",
          "text": [
            "__________________________________________________________________________________________________\n",
            "Layer (type)                    Output Shape         Param #     Connected to                     \n",
            "==================================================================================================\n",
            "input_1 (InputLayer)            (None, 50)           0                                            \n",
            "__________________________________________________________________________________________________\n",
            "embedding_1 (Embedding)         (None, 50, 300)      5843700     input_1[0][0]                    \n",
            "__________________________________________________________________________________________________\n",
            "spatial_dropout1d_1 (SpatialDro (None, 50, 300)      0           embedding_1[0][0]                \n",
            "__________________________________________________________________________________________________\n",
            "bidirectional_1 (Bidirectional) (None, 50, 128)      140544      spatial_dropout1d_1[0][0]        \n",
            "__________________________________________________________________________________________________\n",
            "bidirectional_2 (Bidirectional) (None, 50, 128)      187392      spatial_dropout1d_1[0][0]        \n",
            "__________________________________________________________________________________________________\n",
            "conv1d_1 (Conv1D)               (None, 48, 32)       12320       bidirectional_1[0][0]            \n",
            "__________________________________________________________________________________________________\n",
            "conv1d_2 (Conv1D)               (None, 48, 32)       12320       bidirectional_1[0][0]            \n",
            "__________________________________________________________________________________________________\n",
            "conv1d_3 (Conv1D)               (None, 48, 32)       12320       bidirectional_2[0][0]            \n",
            "__________________________________________________________________________________________________\n",
            "conv1d_4 (Conv1D)               (None, 48, 32)       12320       bidirectional_2[0][0]            \n",
            "__________________________________________________________________________________________________\n",
            "global_average_pooling1d_1 (Glo (None, 32)           0           conv1d_1[0][0]                   \n",
            "__________________________________________________________________________________________________\n",
            "global_max_pooling1d_1 (GlobalM (None, 32)           0           conv1d_1[0][0]                   \n",
            "__________________________________________________________________________________________________\n",
            "global_average_pooling1d_2 (Glo (None, 32)           0           conv1d_2[0][0]                   \n",
            "__________________________________________________________________________________________________\n",
            "global_max_pooling1d_2 (GlobalM (None, 32)           0           conv1d_2[0][0]                   \n",
            "__________________________________________________________________________________________________\n",
            "global_average_pooling1d_3 (Glo (None, 32)           0           conv1d_3[0][0]                   \n",
            "__________________________________________________________________________________________________\n",
            "global_max_pooling1d_3 (GlobalM (None, 32)           0           conv1d_3[0][0]                   \n",
            "__________________________________________________________________________________________________\n",
            "global_average_pooling1d_4 (Glo (None, 32)           0           conv1d_4[0][0]                   \n",
            "__________________________________________________________________________________________________\n",
            "global_max_pooling1d_4 (GlobalM (None, 32)           0           conv1d_4[0][0]                   \n",
            "__________________________________________________________________________________________________\n",
            "concatenate_1 (Concatenate)     (None, 256)          0           global_average_pooling1d_1[0][0] \n",
            "                                                                 global_max_pooling1d_1[0][0]     \n",
            "                                                                 global_average_pooling1d_2[0][0] \n",
            "                                                                 global_max_pooling1d_2[0][0]     \n",
            "                                                                 global_average_pooling1d_3[0][0] \n",
            "                                                                 global_max_pooling1d_3[0][0]     \n",
            "                                                                 global_average_pooling1d_4[0][0] \n",
            "                                                                 global_max_pooling1d_4[0][0]     \n",
            "__________________________________________________________________________________________________\n",
            "batch_normalization_1 (BatchNor (None, 256)          1024        concatenate_1[0][0]              \n",
            "__________________________________________________________________________________________________\n",
            "dense_1 (Dense)                 (None, 64)           16448       batch_normalization_1[0][0]      \n",
            "__________________________________________________________________________________________________\n",
            "dropout_1 (Dropout)             (None, 64)           0           dense_1[0][0]                    \n",
            "__________________________________________________________________________________________________\n",
            "batch_normalization_2 (BatchNor (None, 64)           256         dropout_1[0][0]                  \n",
            "__________________________________________________________________________________________________\n",
            "dense_2 (Dense)                 (None, 32)           2080        batch_normalization_2[0][0]      \n",
            "__________________________________________________________________________________________________\n",
            "dropout_2 (Dropout)             (None, 32)           0           dense_2[0][0]                    \n",
            "__________________________________________________________________________________________________\n",
            "dense_3 (Dense)                 (None, 5)            165         dropout_2[0][0]                  \n",
            "==================================================================================================\n",
            "Total params: 6,240,889\n",
            "Trainable params: 396,549\n",
            "Non-trainable params: 5,844,340\n",
            "__________________________________________________________________________________________________\n"
          ],
          "name": "stdout"
        }
      ]
    },
    {
      "metadata": {
        "id": "eGk4tUfiPY7S",
        "colab_type": "code",
        "colab": {
          "base_uri": "https://localhost:8080/",
          "height": 1672
        },
        "outputId": "0f4866a7-ad62-4b43-9ab2-c39dab4c8fbc"
      },
      "cell_type": "code",
      "source": [
        "!pip install pydot && apt-get install graphviz\n",
        "\n",
        "import pydot\n",
        "from IPython.display import SVG\n",
        "from keras.utils.vis_utils import model_to_dot\n",
        "SVG(model_to_dot(trained_model1,  show_shapes=True, show_layer_names=True, rankdir='HB').create(prog='dot', format='svg'))"
      ],
      "execution_count": 17,
      "outputs": [
        {
          "output_type": "stream",
          "text": [
            "Requirement already satisfied: pydot in /usr/local/lib/python3.6/dist-packages (1.2.4)\n",
            "Requirement already satisfied: pyparsing>=2.1.4 in /usr/local/lib/python3.6/dist-packages (from pydot) (2.3.0)\n",
            "Reading package lists... Done\n",
            "Building dependency tree       \n",
            "Reading state information... Done\n",
            "graphviz is already the newest version (2.40.1-2).\n",
            "0 upgraded, 0 newly installed, 0 to remove and 3 not upgraded.\n"
          ],
          "name": "stdout"
        },
        {
          "output_type": "execute_result",
          "data": {
            "text/plain": [
              "<IPython.core.display.SVG object>"
            ],
            "image/svg+xml": "<svg height=\"1134pt\" viewBox=\"0.00 0.00 4006.00 1134.00\" width=\"4006pt\" xmlns=\"http://www.w3.org/2000/svg\" xmlns:xlink=\"http://www.w3.org/1999/xlink\">\n<g class=\"graph\" id=\"graph0\" transform=\"scale(1 1) rotate(0) translate(4 1130)\">\n<title>G</title>\n<polygon fill=\"#ffffff\" points=\"-4,4 -4,-1130 4002,-1130 4002,4 -4,4\" stroke=\"transparent\"/>\n<!-- 139990247509016 -->\n<g class=\"node\" id=\"node1\">\n<title>139990247509016</title>\n<polygon fill=\"none\" points=\"1848.5,-1079.5 1848.5,-1125.5 2119.5,-1125.5 2119.5,-1079.5 1848.5,-1079.5\" stroke=\"#000000\"/>\n<text fill=\"#000000\" font-family=\"Times,serif\" font-size=\"14.00\" text-anchor=\"middle\" x=\"1915\" y=\"-1098.8\">input_1: InputLayer</text>\n<polyline fill=\"none\" points=\"1981.5,-1079.5 1981.5,-1125.5 \" stroke=\"#000000\"/>\n<text fill=\"#000000\" font-family=\"Times,serif\" font-size=\"14.00\" text-anchor=\"middle\" x=\"2010.5\" y=\"-1110.3\">input:</text>\n<polyline fill=\"none\" points=\"1981.5,-1102.5 2039.5,-1102.5 \" stroke=\"#000000\"/>\n<text fill=\"#000000\" font-family=\"Times,serif\" font-size=\"14.00\" text-anchor=\"middle\" x=\"2010.5\" y=\"-1087.3\">output:</text>\n<polyline fill=\"none\" points=\"2039.5,-1079.5 2039.5,-1125.5 \" stroke=\"#000000\"/>\n<text fill=\"#000000\" font-family=\"Times,serif\" font-size=\"14.00\" text-anchor=\"middle\" x=\"2079.5\" y=\"-1110.3\">(None, 50)</text>\n<polyline fill=\"none\" points=\"2039.5,-1102.5 2119.5,-1102.5 \" stroke=\"#000000\"/>\n<text fill=\"#000000\" font-family=\"Times,serif\" font-size=\"14.00\" text-anchor=\"middle\" x=\"2079.5\" y=\"-1087.3\">(None, 50)</text>\n</g>\n<!-- 139990247509128 -->\n<g class=\"node\" id=\"node2\">\n<title>139990247509128</title>\n<polygon fill=\"none\" points=\"1814.5,-996.5 1814.5,-1042.5 2153.5,-1042.5 2153.5,-996.5 1814.5,-996.5\" stroke=\"#000000\"/>\n<text fill=\"#000000\" font-family=\"Times,serif\" font-size=\"14.00\" text-anchor=\"middle\" x=\"1900\" y=\"-1015.8\">embedding_1: Embedding</text>\n<polyline fill=\"none\" points=\"1985.5,-996.5 1985.5,-1042.5 \" stroke=\"#000000\"/>\n<text fill=\"#000000\" font-family=\"Times,serif\" font-size=\"14.00\" text-anchor=\"middle\" x=\"2014.5\" y=\"-1027.3\">input:</text>\n<polyline fill=\"none\" points=\"1985.5,-1019.5 2043.5,-1019.5 \" stroke=\"#000000\"/>\n<text fill=\"#000000\" font-family=\"Times,serif\" font-size=\"14.00\" text-anchor=\"middle\" x=\"2014.5\" y=\"-1004.3\">output:</text>\n<polyline fill=\"none\" points=\"2043.5,-996.5 2043.5,-1042.5 \" stroke=\"#000000\"/>\n<text fill=\"#000000\" font-family=\"Times,serif\" font-size=\"14.00\" text-anchor=\"middle\" x=\"2098.5\" y=\"-1027.3\">(None, 50)</text>\n<polyline fill=\"none\" points=\"2043.5,-1019.5 2153.5,-1019.5 \" stroke=\"#000000\"/>\n<text fill=\"#000000\" font-family=\"Times,serif\" font-size=\"14.00\" text-anchor=\"middle\" x=\"2098.5\" y=\"-1004.3\">(None, 50, 300)</text>\n</g>\n<!-- 139990247509016&#45;&gt;139990247509128 -->\n<g class=\"edge\" id=\"edge1\">\n<title>139990247509016-&gt;139990247509128</title>\n<path d=\"M1984,-1079.3799C1984,-1071.1745 1984,-1061.7679 1984,-1052.8786\" fill=\"none\" stroke=\"#000000\"/>\n<polygon fill=\"#000000\" points=\"1987.5001,-1052.784 1984,-1042.784 1980.5001,-1052.784 1987.5001,-1052.784\" stroke=\"#000000\"/>\n</g>\n<!-- 139990247509296 -->\n<g class=\"node\" id=\"node3\">\n<title>139990247509296</title>\n<polygon fill=\"none\" points=\"1775.5,-913.5 1775.5,-959.5 2192.5,-959.5 2192.5,-913.5 1775.5,-913.5\" stroke=\"#000000\"/>\n<text fill=\"#000000\" font-family=\"Times,serif\" font-size=\"14.00\" text-anchor=\"middle\" x=\"1900\" y=\"-932.8\">spatial_dropout1d_1: SpatialDropout1D</text>\n<polyline fill=\"none\" points=\"2024.5,-913.5 2024.5,-959.5 \" stroke=\"#000000\"/>\n<text fill=\"#000000\" font-family=\"Times,serif\" font-size=\"14.00\" text-anchor=\"middle\" x=\"2053.5\" y=\"-944.3\">input:</text>\n<polyline fill=\"none\" points=\"2024.5,-936.5 2082.5,-936.5 \" stroke=\"#000000\"/>\n<text fill=\"#000000\" font-family=\"Times,serif\" font-size=\"14.00\" text-anchor=\"middle\" x=\"2053.5\" y=\"-921.3\">output:</text>\n<polyline fill=\"none\" points=\"2082.5,-913.5 2082.5,-959.5 \" stroke=\"#000000\"/>\n<text fill=\"#000000\" font-family=\"Times,serif\" font-size=\"14.00\" text-anchor=\"middle\" x=\"2137.5\" y=\"-944.3\">(None, 50, 300)</text>\n<polyline fill=\"none\" points=\"2082.5,-936.5 2192.5,-936.5 \" stroke=\"#000000\"/>\n<text fill=\"#000000\" font-family=\"Times,serif\" font-size=\"14.00\" text-anchor=\"middle\" x=\"2137.5\" y=\"-921.3\">(None, 50, 300)</text>\n</g>\n<!-- 139990247509128&#45;&gt;139990247509296 -->\n<g class=\"edge\" id=\"edge2\">\n<title>139990247509128-&gt;139990247509296</title>\n<path d=\"M1984,-996.3799C1984,-988.1745 1984,-978.7679 1984,-969.8786\" fill=\"none\" stroke=\"#000000\"/>\n<polygon fill=\"#000000\" points=\"1987.5001,-969.784 1984,-959.784 1980.5001,-969.784 1987.5001,-969.784\" stroke=\"#000000\"/>\n</g>\n<!-- 139990246686000 -->\n<g class=\"node\" id=\"node4\">\n<title>139990246686000</title>\n<polygon fill=\"none\" points=\"1218.5,-830.5 1218.5,-876.5 1745.5,-876.5 1745.5,-830.5 1218.5,-830.5\" stroke=\"#000000\"/>\n<text fill=\"#000000\" font-family=\"Times,serif\" font-size=\"14.00\" text-anchor=\"middle\" x=\"1398\" y=\"-849.8\">bidirectional_1(cu_dnngru_1): Bidirectional(CuDNNGRU)</text>\n<polyline fill=\"none\" points=\"1577.5,-830.5 1577.5,-876.5 \" stroke=\"#000000\"/>\n<text fill=\"#000000\" font-family=\"Times,serif\" font-size=\"14.00\" text-anchor=\"middle\" x=\"1606.5\" y=\"-861.3\">input:</text>\n<polyline fill=\"none\" points=\"1577.5,-853.5 1635.5,-853.5 \" stroke=\"#000000\"/>\n<text fill=\"#000000\" font-family=\"Times,serif\" font-size=\"14.00\" text-anchor=\"middle\" x=\"1606.5\" y=\"-838.3\">output:</text>\n<polyline fill=\"none\" points=\"1635.5,-830.5 1635.5,-876.5 \" stroke=\"#000000\"/>\n<text fill=\"#000000\" font-family=\"Times,serif\" font-size=\"14.00\" text-anchor=\"middle\" x=\"1690.5\" y=\"-861.3\">(None, 50, 300)</text>\n<polyline fill=\"none\" points=\"1635.5,-853.5 1745.5,-853.5 \" stroke=\"#000000\"/>\n<text fill=\"#000000\" font-family=\"Times,serif\" font-size=\"14.00\" text-anchor=\"middle\" x=\"1690.5\" y=\"-838.3\">(None, 50, 128)</text>\n</g>\n<!-- 139990247509296&#45;&gt;139990246686000 -->\n<g class=\"edge\" id=\"edge3\">\n<title>139990247509296-&gt;139990246686000</title>\n<path d=\"M1844.8317,-913.4901C1778.4565,-902.5157 1698.9664,-889.3729 1631.3293,-878.1899\" fill=\"none\" stroke=\"#000000\"/>\n<polygon fill=\"#000000\" points=\"1631.8761,-874.7329 1621.4391,-876.5547 1630.7342,-881.6391 1631.8761,-874.7329\" stroke=\"#000000\"/>\n</g>\n<!-- 139990246686504 -->\n<g class=\"node\" id=\"node5\">\n<title>139990246686504</title>\n<polygon fill=\"none\" points=\"2241,-830.5 2241,-876.5 2781,-876.5 2781,-830.5 2241,-830.5\" stroke=\"#000000\"/>\n<text fill=\"#000000\" font-family=\"Times,serif\" font-size=\"14.00\" text-anchor=\"middle\" x=\"2427\" y=\"-849.8\">bidirectional_2(cu_dnnlstm_1): Bidirectional(CuDNNLSTM)</text>\n<polyline fill=\"none\" points=\"2613,-830.5 2613,-876.5 \" stroke=\"#000000\"/>\n<text fill=\"#000000\" font-family=\"Times,serif\" font-size=\"14.00\" text-anchor=\"middle\" x=\"2642\" y=\"-861.3\">input:</text>\n<polyline fill=\"none\" points=\"2613,-853.5 2671,-853.5 \" stroke=\"#000000\"/>\n<text fill=\"#000000\" font-family=\"Times,serif\" font-size=\"14.00\" text-anchor=\"middle\" x=\"2642\" y=\"-838.3\">output:</text>\n<polyline fill=\"none\" points=\"2671,-830.5 2671,-876.5 \" stroke=\"#000000\"/>\n<text fill=\"#000000\" font-family=\"Times,serif\" font-size=\"14.00\" text-anchor=\"middle\" x=\"2726\" y=\"-861.3\">(None, 50, 300)</text>\n<polyline fill=\"none\" points=\"2671,-853.5 2781,-853.5 \" stroke=\"#000000\"/>\n<text fill=\"#000000\" font-family=\"Times,serif\" font-size=\"14.00\" text-anchor=\"middle\" x=\"2726\" y=\"-838.3\">(None, 50, 128)</text>\n</g>\n<!-- 139990247509296&#45;&gt;139990246686504 -->\n<g class=\"edge\" id=\"edge4\">\n<title>139990247509296-&gt;139990246686504</title>\n<path d=\"M2130.099,-913.4901C2199.9225,-902.4932 2283.5706,-889.319 2354.6703,-878.1212\" fill=\"none\" stroke=\"#000000\"/>\n<polygon fill=\"#000000\" points=\"2355.2831,-881.5679 2364.6168,-876.5547 2354.194,-874.6531 2355.2831,-881.5679\" stroke=\"#000000\"/>\n</g>\n<!-- 139990247534040 -->\n<g class=\"node\" id=\"node6\">\n<title>139990247534040</title>\n<polygon fill=\"none\" points=\"603.5,-747.5 603.5,-793.5 904.5,-793.5 904.5,-747.5 603.5,-747.5\" stroke=\"#000000\"/>\n<text fill=\"#000000\" font-family=\"Times,serif\" font-size=\"14.00\" text-anchor=\"middle\" x=\"670\" y=\"-766.8\">conv1d_1: Conv1D</text>\n<polyline fill=\"none\" points=\"736.5,-747.5 736.5,-793.5 \" stroke=\"#000000\"/>\n<text fill=\"#000000\" font-family=\"Times,serif\" font-size=\"14.00\" text-anchor=\"middle\" x=\"765.5\" y=\"-778.3\">input:</text>\n<polyline fill=\"none\" points=\"736.5,-770.5 794.5,-770.5 \" stroke=\"#000000\"/>\n<text fill=\"#000000\" font-family=\"Times,serif\" font-size=\"14.00\" text-anchor=\"middle\" x=\"765.5\" y=\"-755.3\">output:</text>\n<polyline fill=\"none\" points=\"794.5,-747.5 794.5,-793.5 \" stroke=\"#000000\"/>\n<text fill=\"#000000\" font-family=\"Times,serif\" font-size=\"14.00\" text-anchor=\"middle\" x=\"849.5\" y=\"-778.3\">(None, 50, 128)</text>\n<polyline fill=\"none\" points=\"794.5,-770.5 904.5,-770.5 \" stroke=\"#000000\"/>\n<text fill=\"#000000\" font-family=\"Times,serif\" font-size=\"14.00\" text-anchor=\"middle\" x=\"849.5\" y=\"-755.3\">(None, 48, 32)</text>\n</g>\n<!-- 139990246686000&#45;&gt;139990247534040 -->\n<g class=\"edge\" id=\"edge5\">\n<title>139990246686000-&gt;139990247534040</title>\n<path d=\"M1280.1782,-830.4901C1164.9019,-817.3473 1022.3479,-801.0946 914.7079,-788.8225\" fill=\"none\" stroke=\"#000000\"/>\n<polygon fill=\"#000000\" points=\"915.0629,-785.3404 904.7308,-787.685 914.2699,-792.2953 915.0629,-785.3404\" stroke=\"#000000\"/>\n</g>\n<!-- 139990247534096 -->\n<g class=\"node\" id=\"node7\">\n<title>139990247534096</title>\n<polygon fill=\"none\" points=\"1331.5,-747.5 1331.5,-793.5 1632.5,-793.5 1632.5,-747.5 1331.5,-747.5\" stroke=\"#000000\"/>\n<text fill=\"#000000\" font-family=\"Times,serif\" font-size=\"14.00\" text-anchor=\"middle\" x=\"1398\" y=\"-766.8\">conv1d_2: Conv1D</text>\n<polyline fill=\"none\" points=\"1464.5,-747.5 1464.5,-793.5 \" stroke=\"#000000\"/>\n<text fill=\"#000000\" font-family=\"Times,serif\" font-size=\"14.00\" text-anchor=\"middle\" x=\"1493.5\" y=\"-778.3\">input:</text>\n<polyline fill=\"none\" points=\"1464.5,-770.5 1522.5,-770.5 \" stroke=\"#000000\"/>\n<text fill=\"#000000\" font-family=\"Times,serif\" font-size=\"14.00\" text-anchor=\"middle\" x=\"1493.5\" y=\"-755.3\">output:</text>\n<polyline fill=\"none\" points=\"1522.5,-747.5 1522.5,-793.5 \" stroke=\"#000000\"/>\n<text fill=\"#000000\" font-family=\"Times,serif\" font-size=\"14.00\" text-anchor=\"middle\" x=\"1577.5\" y=\"-778.3\">(None, 50, 128)</text>\n<polyline fill=\"none\" points=\"1522.5,-770.5 1632.5,-770.5 \" stroke=\"#000000\"/>\n<text fill=\"#000000\" font-family=\"Times,serif\" font-size=\"14.00\" text-anchor=\"middle\" x=\"1577.5\" y=\"-755.3\">(None, 48, 32)</text>\n</g>\n<!-- 139990246686000&#45;&gt;139990247534096 -->\n<g class=\"edge\" id=\"edge6\">\n<title>139990246686000-&gt;139990247534096</title>\n<path d=\"M1482,-830.3799C1482,-822.1745 1482,-812.7679 1482,-803.8786\" fill=\"none\" stroke=\"#000000\"/>\n<polygon fill=\"#000000\" points=\"1485.5001,-803.784 1482,-793.784 1478.5001,-803.784 1485.5001,-803.784\" stroke=\"#000000\"/>\n</g>\n<!-- 139990246711592 -->\n<g class=\"node\" id=\"node8\">\n<title>139990246711592</title>\n<polygon fill=\"none\" points=\"2360.5,-747.5 2360.5,-793.5 2661.5,-793.5 2661.5,-747.5 2360.5,-747.5\" stroke=\"#000000\"/>\n<text fill=\"#000000\" font-family=\"Times,serif\" font-size=\"14.00\" text-anchor=\"middle\" x=\"2427\" y=\"-766.8\">conv1d_3: Conv1D</text>\n<polyline fill=\"none\" points=\"2493.5,-747.5 2493.5,-793.5 \" stroke=\"#000000\"/>\n<text fill=\"#000000\" font-family=\"Times,serif\" font-size=\"14.00\" text-anchor=\"middle\" x=\"2522.5\" y=\"-778.3\">input:</text>\n<polyline fill=\"none\" points=\"2493.5,-770.5 2551.5,-770.5 \" stroke=\"#000000\"/>\n<text fill=\"#000000\" font-family=\"Times,serif\" font-size=\"14.00\" text-anchor=\"middle\" x=\"2522.5\" y=\"-755.3\">output:</text>\n<polyline fill=\"none\" points=\"2551.5,-747.5 2551.5,-793.5 \" stroke=\"#000000\"/>\n<text fill=\"#000000\" font-family=\"Times,serif\" font-size=\"14.00\" text-anchor=\"middle\" x=\"2606.5\" y=\"-778.3\">(None, 50, 128)</text>\n<polyline fill=\"none\" points=\"2551.5,-770.5 2661.5,-770.5 \" stroke=\"#000000\"/>\n<text fill=\"#000000\" font-family=\"Times,serif\" font-size=\"14.00\" text-anchor=\"middle\" x=\"2606.5\" y=\"-755.3\">(None, 48, 32)</text>\n</g>\n<!-- 139990246686504&#45;&gt;139990246711592 -->\n<g class=\"edge\" id=\"edge7\">\n<title>139990246686504-&gt;139990246711592</title>\n<path d=\"M2511,-830.3799C2511,-822.1745 2511,-812.7679 2511,-803.8786\" fill=\"none\" stroke=\"#000000\"/>\n<polygon fill=\"#000000\" points=\"2514.5001,-803.784 2511,-793.784 2507.5001,-803.784 2514.5001,-803.784\" stroke=\"#000000\"/>\n</g>\n<!-- 139990246711984 -->\n<g class=\"node\" id=\"node9\">\n<title>139990246711984</title>\n<polygon fill=\"none\" points=\"3113.5,-747.5 3113.5,-793.5 3414.5,-793.5 3414.5,-747.5 3113.5,-747.5\" stroke=\"#000000\"/>\n<text fill=\"#000000\" font-family=\"Times,serif\" font-size=\"14.00\" text-anchor=\"middle\" x=\"3180\" y=\"-766.8\">conv1d_4: Conv1D</text>\n<polyline fill=\"none\" points=\"3246.5,-747.5 3246.5,-793.5 \" stroke=\"#000000\"/>\n<text fill=\"#000000\" font-family=\"Times,serif\" font-size=\"14.00\" text-anchor=\"middle\" x=\"3275.5\" y=\"-778.3\">input:</text>\n<polyline fill=\"none\" points=\"3246.5,-770.5 3304.5,-770.5 \" stroke=\"#000000\"/>\n<text fill=\"#000000\" font-family=\"Times,serif\" font-size=\"14.00\" text-anchor=\"middle\" x=\"3275.5\" y=\"-755.3\">output:</text>\n<polyline fill=\"none\" points=\"3304.5,-747.5 3304.5,-793.5 \" stroke=\"#000000\"/>\n<text fill=\"#000000\" font-family=\"Times,serif\" font-size=\"14.00\" text-anchor=\"middle\" x=\"3359.5\" y=\"-778.3\">(None, 50, 128)</text>\n<polyline fill=\"none\" points=\"3304.5,-770.5 3414.5,-770.5 \" stroke=\"#000000\"/>\n<text fill=\"#000000\" font-family=\"Times,serif\" font-size=\"14.00\" text-anchor=\"middle\" x=\"3359.5\" y=\"-755.3\">(None, 48, 32)</text>\n</g>\n<!-- 139990246686504&#45;&gt;139990246711984 -->\n<g class=\"edge\" id=\"edge8\">\n<title>139990246686504-&gt;139990246711984</title>\n<path d=\"M2719.7525,-830.4901C2841.0087,-817.1245 2991.4442,-800.5427 3103.4041,-788.2018\" fill=\"none\" stroke=\"#000000\"/>\n<polygon fill=\"#000000\" points=\"3103.878,-791.6709 3113.4343,-787.0962 3103.111,-784.713 3103.878,-791.6709\" stroke=\"#000000\"/>\n</g>\n<!-- 139990246712376 -->\n<g class=\"node\" id=\"node10\">\n<title>139990246712376</title>\n<polygon fill=\"none\" points=\"0,-664.5 0,-710.5 504,-710.5 504,-664.5 0,-664.5\" stroke=\"#000000\"/>\n<text fill=\"#000000\" font-family=\"Times,serif\" font-size=\"14.00\" text-anchor=\"middle\" x=\"172\" y=\"-683.8\">global_average_pooling1d_1: GlobalAveragePooling1D</text>\n<polyline fill=\"none\" points=\"344,-664.5 344,-710.5 \" stroke=\"#000000\"/>\n<text fill=\"#000000\" font-family=\"Times,serif\" font-size=\"14.00\" text-anchor=\"middle\" x=\"373\" y=\"-695.3\">input:</text>\n<polyline fill=\"none\" points=\"344,-687.5 402,-687.5 \" stroke=\"#000000\"/>\n<text fill=\"#000000\" font-family=\"Times,serif\" font-size=\"14.00\" text-anchor=\"middle\" x=\"373\" y=\"-672.3\">output:</text>\n<polyline fill=\"none\" points=\"402,-664.5 402,-710.5 \" stroke=\"#000000\"/>\n<text fill=\"#000000\" font-family=\"Times,serif\" font-size=\"14.00\" text-anchor=\"middle\" x=\"453\" y=\"-695.3\">(None, 48, 32)</text>\n<polyline fill=\"none\" points=\"402,-687.5 504,-687.5 \" stroke=\"#000000\"/>\n<text fill=\"#000000\" font-family=\"Times,serif\" font-size=\"14.00\" text-anchor=\"middle\" x=\"453\" y=\"-672.3\">(None, 32)</text>\n</g>\n<!-- 139990247534040&#45;&gt;139990246712376 -->\n<g class=\"edge\" id=\"edge9\">\n<title>139990247534040-&gt;139990246712376</title>\n<path d=\"M614.8317,-747.4901C548.4565,-736.5157 468.9664,-723.3729 401.3293,-712.1899\" fill=\"none\" stroke=\"#000000\"/>\n<polygon fill=\"#000000\" points=\"401.8761,-708.7329 391.4391,-710.5547 400.7342,-715.6391 401.8761,-708.7329\" stroke=\"#000000\"/>\n</g>\n<!-- 139990246712544 -->\n<g class=\"node\" id=\"node11\">\n<title>139990246712544</title>\n<polygon fill=\"none\" points=\"522,-664.5 522,-710.5 986,-710.5 986,-664.5 522,-664.5\" stroke=\"#000000\"/>\n<text fill=\"#000000\" font-family=\"Times,serif\" font-size=\"14.00\" text-anchor=\"middle\" x=\"674\" y=\"-683.8\">global_max_pooling1d_1: GlobalMaxPooling1D</text>\n<polyline fill=\"none\" points=\"826,-664.5 826,-710.5 \" stroke=\"#000000\"/>\n<text fill=\"#000000\" font-family=\"Times,serif\" font-size=\"14.00\" text-anchor=\"middle\" x=\"855\" y=\"-695.3\">input:</text>\n<polyline fill=\"none\" points=\"826,-687.5 884,-687.5 \" stroke=\"#000000\"/>\n<text fill=\"#000000\" font-family=\"Times,serif\" font-size=\"14.00\" text-anchor=\"middle\" x=\"855\" y=\"-672.3\">output:</text>\n<polyline fill=\"none\" points=\"884,-664.5 884,-710.5 \" stroke=\"#000000\"/>\n<text fill=\"#000000\" font-family=\"Times,serif\" font-size=\"14.00\" text-anchor=\"middle\" x=\"935\" y=\"-695.3\">(None, 48, 32)</text>\n<polyline fill=\"none\" points=\"884,-687.5 986,-687.5 \" stroke=\"#000000\"/>\n<text fill=\"#000000\" font-family=\"Times,serif\" font-size=\"14.00\" text-anchor=\"middle\" x=\"935\" y=\"-672.3\">(None, 32)</text>\n</g>\n<!-- 139990247534040&#45;&gt;139990246712544 -->\n<g class=\"edge\" id=\"edge10\">\n<title>139990247534040-&gt;139990246712544</title>\n<path d=\"M754,-747.3799C754,-739.1745 754,-729.7679 754,-720.8786\" fill=\"none\" stroke=\"#000000\"/>\n<polygon fill=\"#000000\" points=\"757.5001,-720.784 754,-710.784 750.5001,-720.784 757.5001,-720.784\" stroke=\"#000000\"/>\n</g>\n<!-- 139990246712656 -->\n<g class=\"node\" id=\"node12\">\n<title>139990246712656</title>\n<polygon fill=\"none\" points=\"1004,-664.5 1004,-710.5 1508,-710.5 1508,-664.5 1004,-664.5\" stroke=\"#000000\"/>\n<text fill=\"#000000\" font-family=\"Times,serif\" font-size=\"14.00\" text-anchor=\"middle\" x=\"1176\" y=\"-683.8\">global_average_pooling1d_2: GlobalAveragePooling1D</text>\n<polyline fill=\"none\" points=\"1348,-664.5 1348,-710.5 \" stroke=\"#000000\"/>\n<text fill=\"#000000\" font-family=\"Times,serif\" font-size=\"14.00\" text-anchor=\"middle\" x=\"1377\" y=\"-695.3\">input:</text>\n<polyline fill=\"none\" points=\"1348,-687.5 1406,-687.5 \" stroke=\"#000000\"/>\n<text fill=\"#000000\" font-family=\"Times,serif\" font-size=\"14.00\" text-anchor=\"middle\" x=\"1377\" y=\"-672.3\">output:</text>\n<polyline fill=\"none\" points=\"1406,-664.5 1406,-710.5 \" stroke=\"#000000\"/>\n<text fill=\"#000000\" font-family=\"Times,serif\" font-size=\"14.00\" text-anchor=\"middle\" x=\"1457\" y=\"-695.3\">(None, 48, 32)</text>\n<polyline fill=\"none\" points=\"1406,-687.5 1508,-687.5 \" stroke=\"#000000\"/>\n<text fill=\"#000000\" font-family=\"Times,serif\" font-size=\"14.00\" text-anchor=\"middle\" x=\"1457\" y=\"-672.3\">(None, 32)</text>\n</g>\n<!-- 139990247534096&#45;&gt;139990246712656 -->\n<g class=\"edge\" id=\"edge11\">\n<title>139990247534096-&gt;139990246712656</title>\n<path d=\"M1419.3465,-747.4901C1391.179,-737.1454 1357.7653,-724.874 1328.5199,-714.1334\" fill=\"none\" stroke=\"#000000\"/>\n<polygon fill=\"#000000\" points=\"1329.369,-710.7167 1318.7754,-710.5547 1326.9557,-717.2876 1329.369,-710.7167\" stroke=\"#000000\"/>\n</g>\n<!-- 139990246712768 -->\n<g class=\"node\" id=\"node13\">\n<title>139990246712768</title>\n<polygon fill=\"none\" points=\"1526,-664.5 1526,-710.5 1990,-710.5 1990,-664.5 1526,-664.5\" stroke=\"#000000\"/>\n<text fill=\"#000000\" font-family=\"Times,serif\" font-size=\"14.00\" text-anchor=\"middle\" x=\"1678\" y=\"-683.8\">global_max_pooling1d_2: GlobalMaxPooling1D</text>\n<polyline fill=\"none\" points=\"1830,-664.5 1830,-710.5 \" stroke=\"#000000\"/>\n<text fill=\"#000000\" font-family=\"Times,serif\" font-size=\"14.00\" text-anchor=\"middle\" x=\"1859\" y=\"-695.3\">input:</text>\n<polyline fill=\"none\" points=\"1830,-687.5 1888,-687.5 \" stroke=\"#000000\"/>\n<text fill=\"#000000\" font-family=\"Times,serif\" font-size=\"14.00\" text-anchor=\"middle\" x=\"1859\" y=\"-672.3\">output:</text>\n<polyline fill=\"none\" points=\"1888,-664.5 1888,-710.5 \" stroke=\"#000000\"/>\n<text fill=\"#000000\" font-family=\"Times,serif\" font-size=\"14.00\" text-anchor=\"middle\" x=\"1939\" y=\"-695.3\">(None, 48, 32)</text>\n<polyline fill=\"none\" points=\"1888,-687.5 1990,-687.5 \" stroke=\"#000000\"/>\n<text fill=\"#000000\" font-family=\"Times,serif\" font-size=\"14.00\" text-anchor=\"middle\" x=\"1939\" y=\"-672.3\">(None, 32)</text>\n</g>\n<!-- 139990247534096&#45;&gt;139990246712768 -->\n<g class=\"edge\" id=\"edge12\">\n<title>139990247534096-&gt;139990246712768</title>\n<path d=\"M1558.5149,-747.4901C1593.6619,-736.9205 1635.4975,-724.3395 1671.7578,-713.4352\" fill=\"none\" stroke=\"#000000\"/>\n<polygon fill=\"#000000\" points=\"1672.7679,-716.7863 1681.3363,-710.5547 1670.752,-710.0829 1672.7679,-716.7863\" stroke=\"#000000\"/>\n</g>\n<!-- 139990246712880 -->\n<g class=\"node\" id=\"node14\">\n<title>139990246712880</title>\n<polygon fill=\"none\" points=\"2008,-664.5 2008,-710.5 2512,-710.5 2512,-664.5 2008,-664.5\" stroke=\"#000000\"/>\n<text fill=\"#000000\" font-family=\"Times,serif\" font-size=\"14.00\" text-anchor=\"middle\" x=\"2180\" y=\"-683.8\">global_average_pooling1d_3: GlobalAveragePooling1D</text>\n<polyline fill=\"none\" points=\"2352,-664.5 2352,-710.5 \" stroke=\"#000000\"/>\n<text fill=\"#000000\" font-family=\"Times,serif\" font-size=\"14.00\" text-anchor=\"middle\" x=\"2381\" y=\"-695.3\">input:</text>\n<polyline fill=\"none\" points=\"2352,-687.5 2410,-687.5 \" stroke=\"#000000\"/>\n<text fill=\"#000000\" font-family=\"Times,serif\" font-size=\"14.00\" text-anchor=\"middle\" x=\"2381\" y=\"-672.3\">output:</text>\n<polyline fill=\"none\" points=\"2410,-664.5 2410,-710.5 \" stroke=\"#000000\"/>\n<text fill=\"#000000\" font-family=\"Times,serif\" font-size=\"14.00\" text-anchor=\"middle\" x=\"2461\" y=\"-695.3\">(None, 48, 32)</text>\n<polyline fill=\"none\" points=\"2410,-687.5 2512,-687.5 \" stroke=\"#000000\"/>\n<text fill=\"#000000\" font-family=\"Times,serif\" font-size=\"14.00\" text-anchor=\"middle\" x=\"2461\" y=\"-672.3\">(None, 32)</text>\n</g>\n<!-- 139990246711592&#45;&gt;139990246712880 -->\n<g class=\"edge\" id=\"edge13\">\n<title>139990246711592-&gt;139990246712880</title>\n<path d=\"M2441.4158,-747.4901C2409.7244,-737.0105 2372.0534,-724.5535 2339.2735,-713.7139\" fill=\"none\" stroke=\"#000000\"/>\n<polygon fill=\"#000000\" points=\"2340.3128,-710.3713 2329.7195,-710.5547 2338.115,-717.0173 2340.3128,-710.3713\" stroke=\"#000000\"/>\n</g>\n<!-- 139990246712992 -->\n<g class=\"node\" id=\"node15\">\n<title>139990246712992</title>\n<polygon fill=\"none\" points=\"2530,-664.5 2530,-710.5 2994,-710.5 2994,-664.5 2530,-664.5\" stroke=\"#000000\"/>\n<text fill=\"#000000\" font-family=\"Times,serif\" font-size=\"14.00\" text-anchor=\"middle\" x=\"2682\" y=\"-683.8\">global_max_pooling1d_3: GlobalMaxPooling1D</text>\n<polyline fill=\"none\" points=\"2834,-664.5 2834,-710.5 \" stroke=\"#000000\"/>\n<text fill=\"#000000\" font-family=\"Times,serif\" font-size=\"14.00\" text-anchor=\"middle\" x=\"2863\" y=\"-695.3\">input:</text>\n<polyline fill=\"none\" points=\"2834,-687.5 2892,-687.5 \" stroke=\"#000000\"/>\n<text fill=\"#000000\" font-family=\"Times,serif\" font-size=\"14.00\" text-anchor=\"middle\" x=\"2863\" y=\"-672.3\">output:</text>\n<polyline fill=\"none\" points=\"2892,-664.5 2892,-710.5 \" stroke=\"#000000\"/>\n<text fill=\"#000000\" font-family=\"Times,serif\" font-size=\"14.00\" text-anchor=\"middle\" x=\"2943\" y=\"-695.3\">(None, 48, 32)</text>\n<polyline fill=\"none\" points=\"2892,-687.5 2994,-687.5 \" stroke=\"#000000\"/>\n<text fill=\"#000000\" font-family=\"Times,serif\" font-size=\"14.00\" text-anchor=\"middle\" x=\"2943\" y=\"-672.3\">(None, 32)</text>\n</g>\n<!-- 139990246711592&#45;&gt;139990246712992 -->\n<g class=\"edge\" id=\"edge14\">\n<title>139990246711592-&gt;139990246712992</title>\n<path d=\"M2580.5842,-747.4901C2612.2756,-737.0105 2649.9466,-724.5535 2682.7265,-713.7139\" fill=\"none\" stroke=\"#000000\"/>\n<polygon fill=\"#000000\" points=\"2683.885,-717.0173 2692.2805,-710.5547 2681.6872,-710.3713 2683.885,-717.0173\" stroke=\"#000000\"/>\n</g>\n<!-- 139990246713104 -->\n<g class=\"node\" id=\"node16\">\n<title>139990246713104</title>\n<polygon fill=\"none\" points=\"3012,-664.5 3012,-710.5 3516,-710.5 3516,-664.5 3012,-664.5\" stroke=\"#000000\"/>\n<text fill=\"#000000\" font-family=\"Times,serif\" font-size=\"14.00\" text-anchor=\"middle\" x=\"3184\" y=\"-683.8\">global_average_pooling1d_4: GlobalAveragePooling1D</text>\n<polyline fill=\"none\" points=\"3356,-664.5 3356,-710.5 \" stroke=\"#000000\"/>\n<text fill=\"#000000\" font-family=\"Times,serif\" font-size=\"14.00\" text-anchor=\"middle\" x=\"3385\" y=\"-695.3\">input:</text>\n<polyline fill=\"none\" points=\"3356,-687.5 3414,-687.5 \" stroke=\"#000000\"/>\n<text fill=\"#000000\" font-family=\"Times,serif\" font-size=\"14.00\" text-anchor=\"middle\" x=\"3385\" y=\"-672.3\">output:</text>\n<polyline fill=\"none\" points=\"3414,-664.5 3414,-710.5 \" stroke=\"#000000\"/>\n<text fill=\"#000000\" font-family=\"Times,serif\" font-size=\"14.00\" text-anchor=\"middle\" x=\"3465\" y=\"-695.3\">(None, 48, 32)</text>\n<polyline fill=\"none\" points=\"3414,-687.5 3516,-687.5 \" stroke=\"#000000\"/>\n<text fill=\"#000000\" font-family=\"Times,serif\" font-size=\"14.00\" text-anchor=\"middle\" x=\"3465\" y=\"-672.3\">(None, 32)</text>\n</g>\n<!-- 139990246711984&#45;&gt;139990246713104 -->\n<g class=\"edge\" id=\"edge15\">\n<title>139990246711984-&gt;139990246713104</title>\n<path d=\"M3264,-747.3799C3264,-739.1745 3264,-729.7679 3264,-720.8786\" fill=\"none\" stroke=\"#000000\"/>\n<polygon fill=\"#000000\" points=\"3267.5001,-720.784 3264,-710.784 3260.5001,-720.784 3267.5001,-720.784\" stroke=\"#000000\"/>\n</g>\n<!-- 139990246713216 -->\n<g class=\"node\" id=\"node17\">\n<title>139990246713216</title>\n<polygon fill=\"none\" points=\"3534,-664.5 3534,-710.5 3998,-710.5 3998,-664.5 3534,-664.5\" stroke=\"#000000\"/>\n<text fill=\"#000000\" font-family=\"Times,serif\" font-size=\"14.00\" text-anchor=\"middle\" x=\"3686\" y=\"-683.8\">global_max_pooling1d_4: GlobalMaxPooling1D</text>\n<polyline fill=\"none\" points=\"3838,-664.5 3838,-710.5 \" stroke=\"#000000\"/>\n<text fill=\"#000000\" font-family=\"Times,serif\" font-size=\"14.00\" text-anchor=\"middle\" x=\"3867\" y=\"-695.3\">input:</text>\n<polyline fill=\"none\" points=\"3838,-687.5 3896,-687.5 \" stroke=\"#000000\"/>\n<text fill=\"#000000\" font-family=\"Times,serif\" font-size=\"14.00\" text-anchor=\"middle\" x=\"3867\" y=\"-672.3\">output:</text>\n<polyline fill=\"none\" points=\"3896,-664.5 3896,-710.5 \" stroke=\"#000000\"/>\n<text fill=\"#000000\" font-family=\"Times,serif\" font-size=\"14.00\" text-anchor=\"middle\" x=\"3947\" y=\"-695.3\">(None, 48, 32)</text>\n<polyline fill=\"none\" points=\"3896,-687.5 3998,-687.5 \" stroke=\"#000000\"/>\n<text fill=\"#000000\" font-family=\"Times,serif\" font-size=\"14.00\" text-anchor=\"middle\" x=\"3947\" y=\"-672.3\">(None, 32)</text>\n</g>\n<!-- 139990246711984&#45;&gt;139990246713216 -->\n<g class=\"edge\" id=\"edge16\">\n<title>139990246711984-&gt;139990246713216</title>\n<path d=\"M3403.1683,-747.4901C3469.5435,-736.5157 3549.0336,-723.3729 3616.6707,-712.1899\" fill=\"none\" stroke=\"#000000\"/>\n<polygon fill=\"#000000\" points=\"3617.2658,-715.6391 3626.5609,-710.5547 3616.1239,-708.7329 3617.2658,-715.6391\" stroke=\"#000000\"/>\n</g>\n<!-- 139990247534432 -->\n<g class=\"node\" id=\"node18\">\n<title>139990247534432</title>\n<polygon fill=\"none\" points=\"1601.5,-581.5 1601.5,-627.5 2416.5,-627.5 2416.5,-581.5 1601.5,-581.5\" stroke=\"#000000\"/>\n<text fill=\"#000000\" font-family=\"Times,serif\" font-size=\"14.00\" text-anchor=\"middle\" x=\"1689\" y=\"-600.8\">concatenate_1: Concatenate</text>\n<polyline fill=\"none\" points=\"1776.5,-581.5 1776.5,-627.5 \" stroke=\"#000000\"/>\n<text fill=\"#000000\" font-family=\"Times,serif\" font-size=\"14.00\" text-anchor=\"middle\" x=\"1805.5\" y=\"-612.3\">input:</text>\n<polyline fill=\"none\" points=\"1776.5,-604.5 1834.5,-604.5 \" stroke=\"#000000\"/>\n<text fill=\"#000000\" font-family=\"Times,serif\" font-size=\"14.00\" text-anchor=\"middle\" x=\"1805.5\" y=\"-589.3\">output:</text>\n<polyline fill=\"none\" points=\"1834.5,-581.5 1834.5,-627.5 \" stroke=\"#000000\"/>\n<text fill=\"#000000\" font-family=\"Times,serif\" font-size=\"14.00\" text-anchor=\"middle\" x=\"2125.5\" y=\"-612.3\">[(None, 32), (None, 32), (None, 32), (None, 32), (None, 32), (None, 32), (None, 32), (None, 32)]</text>\n<polyline fill=\"none\" points=\"1834.5,-604.5 2416.5,-604.5 \" stroke=\"#000000\"/>\n<text fill=\"#000000\" font-family=\"Times,serif\" font-size=\"14.00\" text-anchor=\"middle\" x=\"2125.5\" y=\"-589.3\">(None, 256)</text>\n</g>\n<!-- 139990246712376&#45;&gt;139990247534432 -->\n<g class=\"edge\" id=\"edge17\">\n<title>139990246712376-&gt;139990247534432</title>\n<path d=\"M504.0945,-664.5901C507.0795,-664.3883 510.049,-664.1914 513,-664 876.7058,-640.4083 1290.8022,-624.8098 1590.9716,-615.526\" fill=\"none\" stroke=\"#000000\"/>\n<polygon fill=\"#000000\" points=\"1591.2679,-619.0187 1601.1553,-615.2121 1591.0522,-612.022 1591.2679,-619.0187\" stroke=\"#000000\"/>\n</g>\n<!-- 139990246712544&#45;&gt;139990247534432 -->\n<g class=\"edge\" id=\"edge18\">\n<title>139990246712544-&gt;139990247534432</title>\n<path d=\"M986.1427,-664.7018C989.1127,-664.4631 992.0662,-664.229 995,-664 1190.8309,-648.7124 1408.217,-635.4638 1591.3256,-625.3741\" fill=\"none\" stroke=\"#000000\"/>\n<polygon fill=\"#000000\" points=\"1591.6046,-628.8641 1601.3974,-624.8204 1591.2203,-621.8747 1591.6046,-628.8641\" stroke=\"#000000\"/>\n</g>\n<!-- 139990246712656&#45;&gt;139990247534432 -->\n<g class=\"edge\" id=\"edge19\">\n<title>139990246712656-&gt;139990247534432</title>\n<path d=\"M1464.7525,-664.4901C1565.9507,-653.3354 1687.473,-639.9406 1789.9912,-628.6404\" fill=\"none\" stroke=\"#000000\"/>\n<polygon fill=\"#000000\" points=\"1790.6116,-632.0933 1800.168,-627.5187 1789.8447,-625.1355 1790.6116,-632.0933\" stroke=\"#000000\"/>\n</g>\n<!-- 139990246712768&#45;&gt;139990247534432 -->\n<g class=\"edge\" id=\"edge20\">\n<title>139990246712768-&gt;139990247534432</title>\n<path d=\"M1827.5842,-664.4901C1859.2756,-654.0105 1896.9466,-641.5535 1929.7265,-630.7139\" fill=\"none\" stroke=\"#000000\"/>\n<polygon fill=\"#000000\" points=\"1930.885,-634.0173 1939.2805,-627.5547 1928.6872,-627.3713 1930.885,-634.0173\" stroke=\"#000000\"/>\n</g>\n<!-- 139990246712880&#45;&gt;139990247534432 -->\n<g class=\"edge\" id=\"edge21\">\n<title>139990246712880-&gt;139990247534432</title>\n<path d=\"M2190.4158,-664.4901C2158.7244,-654.0105 2121.0534,-641.5535 2088.2735,-630.7139\" fill=\"none\" stroke=\"#000000\"/>\n<polygon fill=\"#000000\" points=\"2089.3128,-627.3713 2078.7195,-627.5547 2087.115,-634.0173 2089.3128,-627.3713\" stroke=\"#000000\"/>\n</g>\n<!-- 139990246712992&#45;&gt;139990247534432 -->\n<g class=\"edge\" id=\"edge22\">\n<title>139990246712992-&gt;139990247534432</title>\n<path d=\"M2553.2475,-664.4901C2452.0493,-653.3354 2330.527,-639.9406 2228.0088,-628.6404\" fill=\"none\" stroke=\"#000000\"/>\n<polygon fill=\"#000000\" points=\"2228.1553,-625.1355 2217.832,-627.5187 2227.3884,-632.0933 2228.1553,-625.1355\" stroke=\"#000000\"/>\n</g>\n<!-- 139990246713104&#45;&gt;139990247534432 -->\n<g class=\"edge\" id=\"edge23\">\n<title>139990246713104-&gt;139990247534432</title>\n<path d=\"M3011.8996,-664.6744C3008.9164,-664.4459 3005.949,-664.221 3003,-664 2813.9231,-649.8321 2604.4106,-636.8829 2426.6772,-626.7086\" fill=\"none\" stroke=\"#000000\"/>\n<polygon fill=\"#000000\" points=\"2426.8146,-623.2109 2416.6312,-626.1346 2426.4152,-630.1995 2426.8146,-623.2109\" stroke=\"#000000\"/>\n</g>\n<!-- 139990246713216&#45;&gt;139990247534432 -->\n<g class=\"edge\" id=\"edge24\">\n<title>139990246713216-&gt;139990247534432</title>\n<path d=\"M3533.8632,-664.621C3530.8914,-664.4078 3527.9359,-664.2006 3525,-664 3154.2504,-638.6698 2731.7023,-623.1876 2427.0557,-614.392\" fill=\"none\" stroke=\"#000000\"/>\n<polygon fill=\"#000000\" points=\"2426.8175,-610.8838 2416.721,-614.0949 2426.6163,-617.8809 2426.8175,-610.8838\" stroke=\"#000000\"/>\n</g>\n<!-- 139990247533536 -->\n<g class=\"node\" id=\"node19\">\n<title>139990247533536</title>\n<polygon fill=\"none\" points=\"1801,-498.5 1801,-544.5 2217,-544.5 2217,-498.5 1801,-498.5\" stroke=\"#000000\"/>\n<text fill=\"#000000\" font-family=\"Times,serif\" font-size=\"14.00\" text-anchor=\"middle\" x=\"1936.5\" y=\"-517.8\">batch_normalization_1: BatchNormalization</text>\n<polyline fill=\"none\" points=\"2072,-498.5 2072,-544.5 \" stroke=\"#000000\"/>\n<text fill=\"#000000\" font-family=\"Times,serif\" font-size=\"14.00\" text-anchor=\"middle\" x=\"2101\" y=\"-529.3\">input:</text>\n<polyline fill=\"none\" points=\"2072,-521.5 2130,-521.5 \" stroke=\"#000000\"/>\n<text fill=\"#000000\" font-family=\"Times,serif\" font-size=\"14.00\" text-anchor=\"middle\" x=\"2101\" y=\"-506.3\">output:</text>\n<polyline fill=\"none\" points=\"2130,-498.5 2130,-544.5 \" stroke=\"#000000\"/>\n<text fill=\"#000000\" font-family=\"Times,serif\" font-size=\"14.00\" text-anchor=\"middle\" x=\"2173.5\" y=\"-529.3\">(None, 256)</text>\n<polyline fill=\"none\" points=\"2130,-521.5 2217,-521.5 \" stroke=\"#000000\"/>\n<text fill=\"#000000\" font-family=\"Times,serif\" font-size=\"14.00\" text-anchor=\"middle\" x=\"2173.5\" y=\"-506.3\">(None, 256)</text>\n</g>\n<!-- 139990247534432&#45;&gt;139990247533536 -->\n<g class=\"edge\" id=\"edge25\">\n<title>139990247534432-&gt;139990247533536</title>\n<path d=\"M2009,-581.3799C2009,-573.1745 2009,-563.7679 2009,-554.8786\" fill=\"none\" stroke=\"#000000\"/>\n<polygon fill=\"#000000\" points=\"2012.5001,-554.784 2009,-544.784 2005.5001,-554.784 2012.5001,-554.784\" stroke=\"#000000\"/>\n</g>\n<!-- 139990247533256 -->\n<g class=\"node\" id=\"node20\">\n<title>139990247533256</title>\n<polygon fill=\"none\" points=\"1883,-415.5 1883,-461.5 2135,-461.5 2135,-415.5 1883,-415.5\" stroke=\"#000000\"/>\n<text fill=\"#000000\" font-family=\"Times,serif\" font-size=\"14.00\" text-anchor=\"middle\" x=\"1936.5\" y=\"-434.8\">dense_1: Dense</text>\n<polyline fill=\"none\" points=\"1990,-415.5 1990,-461.5 \" stroke=\"#000000\"/>\n<text fill=\"#000000\" font-family=\"Times,serif\" font-size=\"14.00\" text-anchor=\"middle\" x=\"2019\" y=\"-446.3\">input:</text>\n<polyline fill=\"none\" points=\"1990,-438.5 2048,-438.5 \" stroke=\"#000000\"/>\n<text fill=\"#000000\" font-family=\"Times,serif\" font-size=\"14.00\" text-anchor=\"middle\" x=\"2019\" y=\"-423.3\">output:</text>\n<polyline fill=\"none\" points=\"2048,-415.5 2048,-461.5 \" stroke=\"#000000\"/>\n<text fill=\"#000000\" font-family=\"Times,serif\" font-size=\"14.00\" text-anchor=\"middle\" x=\"2091.5\" y=\"-446.3\">(None, 256)</text>\n<polyline fill=\"none\" points=\"2048,-438.5 2135,-438.5 \" stroke=\"#000000\"/>\n<text fill=\"#000000\" font-family=\"Times,serif\" font-size=\"14.00\" text-anchor=\"middle\" x=\"2091.5\" y=\"-423.3\">(None, 64)</text>\n</g>\n<!-- 139990247533536&#45;&gt;139990247533256 -->\n<g class=\"edge\" id=\"edge26\">\n<title>139990247533536-&gt;139990247533256</title>\n<path d=\"M2009,-498.3799C2009,-490.1745 2009,-480.7679 2009,-471.8786\" fill=\"none\" stroke=\"#000000\"/>\n<polygon fill=\"#000000\" points=\"2012.5001,-471.784 2009,-461.784 2005.5001,-471.784 2012.5001,-471.784\" stroke=\"#000000\"/>\n</g>\n<!-- 139990247532472 -->\n<g class=\"node\" id=\"node21\">\n<title>139990247532472</title>\n<polygon fill=\"none\" points=\"1873,-332.5 1873,-378.5 2145,-378.5 2145,-332.5 1873,-332.5\" stroke=\"#000000\"/>\n<text fill=\"#000000\" font-family=\"Times,serif\" font-size=\"14.00\" text-anchor=\"middle\" x=\"1940\" y=\"-351.8\">dropout_1: Dropout</text>\n<polyline fill=\"none\" points=\"2007,-332.5 2007,-378.5 \" stroke=\"#000000\"/>\n<text fill=\"#000000\" font-family=\"Times,serif\" font-size=\"14.00\" text-anchor=\"middle\" x=\"2036\" y=\"-363.3\">input:</text>\n<polyline fill=\"none\" points=\"2007,-355.5 2065,-355.5 \" stroke=\"#000000\"/>\n<text fill=\"#000000\" font-family=\"Times,serif\" font-size=\"14.00\" text-anchor=\"middle\" x=\"2036\" y=\"-340.3\">output:</text>\n<polyline fill=\"none\" points=\"2065,-332.5 2065,-378.5 \" stroke=\"#000000\"/>\n<text fill=\"#000000\" font-family=\"Times,serif\" font-size=\"14.00\" text-anchor=\"middle\" x=\"2105\" y=\"-363.3\">(None, 64)</text>\n<polyline fill=\"none\" points=\"2065,-355.5 2145,-355.5 \" stroke=\"#000000\"/>\n<text fill=\"#000000\" font-family=\"Times,serif\" font-size=\"14.00\" text-anchor=\"middle\" x=\"2105\" y=\"-340.3\">(None, 64)</text>\n</g>\n<!-- 139990247533256&#45;&gt;139990247532472 -->\n<g class=\"edge\" id=\"edge27\">\n<title>139990247533256-&gt;139990247532472</title>\n<path d=\"M2009,-415.3799C2009,-407.1745 2009,-397.7679 2009,-388.8786\" fill=\"none\" stroke=\"#000000\"/>\n<polygon fill=\"#000000\" points=\"2012.5001,-388.784 2009,-378.784 2005.5001,-388.784 2012.5001,-388.784\" stroke=\"#000000\"/>\n</g>\n<!-- 139990247532528 -->\n<g class=\"node\" id=\"node22\">\n<title>139990247532528</title>\n<polygon fill=\"none\" points=\"1804.5,-249.5 1804.5,-295.5 2213.5,-295.5 2213.5,-249.5 1804.5,-249.5\" stroke=\"#000000\"/>\n<text fill=\"#000000\" font-family=\"Times,serif\" font-size=\"14.00\" text-anchor=\"middle\" x=\"1940\" y=\"-268.8\">batch_normalization_2: BatchNormalization</text>\n<polyline fill=\"none\" points=\"2075.5,-249.5 2075.5,-295.5 \" stroke=\"#000000\"/>\n<text fill=\"#000000\" font-family=\"Times,serif\" font-size=\"14.00\" text-anchor=\"middle\" x=\"2104.5\" y=\"-280.3\">input:</text>\n<polyline fill=\"none\" points=\"2075.5,-272.5 2133.5,-272.5 \" stroke=\"#000000\"/>\n<text fill=\"#000000\" font-family=\"Times,serif\" font-size=\"14.00\" text-anchor=\"middle\" x=\"2104.5\" y=\"-257.3\">output:</text>\n<polyline fill=\"none\" points=\"2133.5,-249.5 2133.5,-295.5 \" stroke=\"#000000\"/>\n<text fill=\"#000000\" font-family=\"Times,serif\" font-size=\"14.00\" text-anchor=\"middle\" x=\"2173.5\" y=\"-280.3\">(None, 64)</text>\n<polyline fill=\"none\" points=\"2133.5,-272.5 2213.5,-272.5 \" stroke=\"#000000\"/>\n<text fill=\"#000000\" font-family=\"Times,serif\" font-size=\"14.00\" text-anchor=\"middle\" x=\"2173.5\" y=\"-257.3\">(None, 64)</text>\n</g>\n<!-- 139990247532472&#45;&gt;139990247532528 -->\n<g class=\"edge\" id=\"edge28\">\n<title>139990247532472-&gt;139990247532528</title>\n<path d=\"M2009,-332.3799C2009,-324.1745 2009,-314.7679 2009,-305.8786\" fill=\"none\" stroke=\"#000000\"/>\n<polygon fill=\"#000000\" points=\"2012.5001,-305.784 2009,-295.784 2005.5001,-305.784 2012.5001,-305.784\" stroke=\"#000000\"/>\n</g>\n<!-- 139990247532248 -->\n<g class=\"node\" id=\"node23\">\n<title>139990247532248</title>\n<polygon fill=\"none\" points=\"1886.5,-166.5 1886.5,-212.5 2131.5,-212.5 2131.5,-166.5 1886.5,-166.5\" stroke=\"#000000\"/>\n<text fill=\"#000000\" font-family=\"Times,serif\" font-size=\"14.00\" text-anchor=\"middle\" x=\"1940\" y=\"-185.8\">dense_2: Dense</text>\n<polyline fill=\"none\" points=\"1993.5,-166.5 1993.5,-212.5 \" stroke=\"#000000\"/>\n<text fill=\"#000000\" font-family=\"Times,serif\" font-size=\"14.00\" text-anchor=\"middle\" x=\"2022.5\" y=\"-197.3\">input:</text>\n<polyline fill=\"none\" points=\"1993.5,-189.5 2051.5,-189.5 \" stroke=\"#000000\"/>\n<text fill=\"#000000\" font-family=\"Times,serif\" font-size=\"14.00\" text-anchor=\"middle\" x=\"2022.5\" y=\"-174.3\">output:</text>\n<polyline fill=\"none\" points=\"2051.5,-166.5 2051.5,-212.5 \" stroke=\"#000000\"/>\n<text fill=\"#000000\" font-family=\"Times,serif\" font-size=\"14.00\" text-anchor=\"middle\" x=\"2091.5\" y=\"-197.3\">(None, 64)</text>\n<polyline fill=\"none\" points=\"2051.5,-189.5 2131.5,-189.5 \" stroke=\"#000000\"/>\n<text fill=\"#000000\" font-family=\"Times,serif\" font-size=\"14.00\" text-anchor=\"middle\" x=\"2091.5\" y=\"-174.3\">(None, 32)</text>\n</g>\n<!-- 139990247532528&#45;&gt;139990247532248 -->\n<g class=\"edge\" id=\"edge29\">\n<title>139990247532528-&gt;139990247532248</title>\n<path d=\"M2009,-249.3799C2009,-241.1745 2009,-231.7679 2009,-222.8786\" fill=\"none\" stroke=\"#000000\"/>\n<polygon fill=\"#000000\" points=\"2012.5001,-222.784 2009,-212.784 2005.5001,-222.784 2012.5001,-222.784\" stroke=\"#000000\"/>\n</g>\n<!-- 139990247531688 -->\n<g class=\"node\" id=\"node24\">\n<title>139990247531688</title>\n<polygon fill=\"none\" points=\"1873,-83.5 1873,-129.5 2145,-129.5 2145,-83.5 1873,-83.5\" stroke=\"#000000\"/>\n<text fill=\"#000000\" font-family=\"Times,serif\" font-size=\"14.00\" text-anchor=\"middle\" x=\"1940\" y=\"-102.8\">dropout_2: Dropout</text>\n<polyline fill=\"none\" points=\"2007,-83.5 2007,-129.5 \" stroke=\"#000000\"/>\n<text fill=\"#000000\" font-family=\"Times,serif\" font-size=\"14.00\" text-anchor=\"middle\" x=\"2036\" y=\"-114.3\">input:</text>\n<polyline fill=\"none\" points=\"2007,-106.5 2065,-106.5 \" stroke=\"#000000\"/>\n<text fill=\"#000000\" font-family=\"Times,serif\" font-size=\"14.00\" text-anchor=\"middle\" x=\"2036\" y=\"-91.3\">output:</text>\n<polyline fill=\"none\" points=\"2065,-83.5 2065,-129.5 \" stroke=\"#000000\"/>\n<text fill=\"#000000\" font-family=\"Times,serif\" font-size=\"14.00\" text-anchor=\"middle\" x=\"2105\" y=\"-114.3\">(None, 32)</text>\n<polyline fill=\"none\" points=\"2065,-106.5 2145,-106.5 \" stroke=\"#000000\"/>\n<text fill=\"#000000\" font-family=\"Times,serif\" font-size=\"14.00\" text-anchor=\"middle\" x=\"2105\" y=\"-91.3\">(None, 32)</text>\n</g>\n<!-- 139990247532248&#45;&gt;139990247531688 -->\n<g class=\"edge\" id=\"edge30\">\n<title>139990247532248-&gt;139990247531688</title>\n<path d=\"M2009,-166.3799C2009,-158.1745 2009,-148.7679 2009,-139.8786\" fill=\"none\" stroke=\"#000000\"/>\n<polygon fill=\"#000000\" points=\"2012.5001,-139.784 2009,-129.784 2005.5001,-139.784 2012.5001,-139.784\" stroke=\"#000000\"/>\n</g>\n<!-- 139990247531352 -->\n<g class=\"node\" id=\"node25\">\n<title>139990247531352</title>\n<polygon fill=\"none\" points=\"1886.5,-.5 1886.5,-46.5 2131.5,-46.5 2131.5,-.5 1886.5,-.5\" stroke=\"#000000\"/>\n<text fill=\"#000000\" font-family=\"Times,serif\" font-size=\"14.00\" text-anchor=\"middle\" x=\"1940\" y=\"-19.8\">dense_3: Dense</text>\n<polyline fill=\"none\" points=\"1993.5,-.5 1993.5,-46.5 \" stroke=\"#000000\"/>\n<text fill=\"#000000\" font-family=\"Times,serif\" font-size=\"14.00\" text-anchor=\"middle\" x=\"2022.5\" y=\"-31.3\">input:</text>\n<polyline fill=\"none\" points=\"1993.5,-23.5 2051.5,-23.5 \" stroke=\"#000000\"/>\n<text fill=\"#000000\" font-family=\"Times,serif\" font-size=\"14.00\" text-anchor=\"middle\" x=\"2022.5\" y=\"-8.3\">output:</text>\n<polyline fill=\"none\" points=\"2051.5,-.5 2051.5,-46.5 \" stroke=\"#000000\"/>\n<text fill=\"#000000\" font-family=\"Times,serif\" font-size=\"14.00\" text-anchor=\"middle\" x=\"2091.5\" y=\"-31.3\">(None, 32)</text>\n<polyline fill=\"none\" points=\"2051.5,-23.5 2131.5,-23.5 \" stroke=\"#000000\"/>\n<text fill=\"#000000\" font-family=\"Times,serif\" font-size=\"14.00\" text-anchor=\"middle\" x=\"2091.5\" y=\"-8.3\">(None, 5)</text>\n</g>\n<!-- 139990247531688&#45;&gt;139990247531352 -->\n<g class=\"edge\" id=\"edge31\">\n<title>139990247531688-&gt;139990247531352</title>\n<path d=\"M2009,-83.3799C2009,-75.1745 2009,-65.7679 2009,-56.8786\" fill=\"none\" stroke=\"#000000\"/>\n<polygon fill=\"#000000\" points=\"2012.5001,-56.784 2009,-46.784 2005.5001,-56.784 2012.5001,-56.784\" stroke=\"#000000\"/>\n</g>\n</g>\n</svg>"
          },
          "metadata": {
            "tags": []
          },
          "execution_count": 17
        }
      ]
    }
  ]
}