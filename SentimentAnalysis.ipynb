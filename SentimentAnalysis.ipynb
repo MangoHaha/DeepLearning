{
  "nbformat": 4,
  "nbformat_minor": 0,
  "metadata": {
    "colab": {
      "name": "SentimentAnalysis.ipynb",
      "version": "0.3.2",
      "provenance": [],
      "include_colab_link": true
    },
    "kernelspec": {
      "name": "python3",
      "display_name": "Python 3"
    }
  },
  "cells": [
    {
      "cell_type": "markdown",
      "metadata": {
        "id": "view-in-github",
        "colab_type": "text"
      },
      "source": [
        "<a href=\"https://colab.research.google.com/github/MangoHaha/DeepLearning/blob/master/SentimentAnalysis.ipynb\" target=\"_parent\"><img src=\"https://colab.research.google.com/assets/colab-badge.svg\" alt=\"Open In Colab\"/></a>"
      ]
    },
    {
      "metadata": {
        "id": "4WgPEpWK4bki",
        "colab_type": "code",
        "colab": {
          "base_uri": "https://localhost:8080/",
          "height": 227
        },
        "outputId": "9ec407f7-9fb6-48f4-c33b-e6ec3e4d9b7a"
      },
      "cell_type": "code",
      "source": [
        "!pip install lightgbm wordcloud"
      ],
      "execution_count": 4,
      "outputs": [
        {
          "output_type": "stream",
          "text": [
            "Requirement already satisfied: lightgbm in /usr/local/lib/python3.6/dist-packages (2.2.1)\n",
            "Collecting wordcloud\n",
            "\u001b[?25l  Downloading https://files.pythonhosted.org/packages/ae/af/849edf14d573eba9c8082db898ff0d090428d9485371cc4fe21a66717ad2/wordcloud-1.5.0-cp36-cp36m-manylinux1_x86_64.whl (361kB)\n",
            "\u001b[K    100% |████████████████████████████████| 368kB 8.0MB/s \n",
            "\u001b[?25hRequirement already satisfied: scipy in /usr/local/lib/python3.6/dist-packages (from lightgbm) (0.19.1)\n",
            "Requirement already satisfied: numpy in /usr/local/lib/python3.6/dist-packages (from lightgbm) (1.14.6)\n",
            "Requirement already satisfied: scikit-learn in /usr/local/lib/python3.6/dist-packages (from lightgbm) (0.19.2)\n",
            "Requirement already satisfied: pillow in /usr/local/lib/python3.6/dist-packages (from wordcloud) (4.0.0)\n",
            "Requirement already satisfied: olefile in /usr/local/lib/python3.6/dist-packages (from pillow->wordcloud) (0.46)\n",
            "Installing collected packages: wordcloud\n",
            "Successfully installed wordcloud-1.5.0\n"
          ],
          "name": "stdout"
        }
      ]
    },
    {
      "metadata": {
        "id": "ayzUX9X231Ej",
        "colab_type": "code",
        "colab": {}
      },
      "cell_type": "code",
      "source": [
        "import numpy as np\n",
        "import pandas as pd\n",
        "import matplotlib.pyplot as plt\n",
        "import seaborn as sns\n",
        "%matplotlib inline\n",
        "\n",
        "from nltk.tokenize import TweetTokenizer\n",
        "import datetime\n",
        "import lightgbm as lgb\n",
        "from scipy import stats\n",
        "from scipy.sparse import hstack, csr_matrix\n",
        "from sklearn.model_selection import train_test_split, cross_val_score\n",
        "from wordcloud import WordCloud\n",
        "from collections import Counter\n",
        "from nltk.corpus import stopwords\n",
        "from nltk.util import ngrams\n",
        "from sklearn.feature_extraction.text import TfidfVectorizer\n",
        "from sklearn.preprocessing import StandardScaler\n",
        "from sklearn.linear_model import LogisticRegression\n",
        "from sklearn.svm import LinearSVC\n",
        "from sklearn.multiclass import OneVsRestClassifier\n",
        "pd.set_option('max_colwidth',400)\n",
        "from google.colab import drive\n",
        "import nltk\n",
        "nltk.download('stopwords')"
      ],
      "execution_count": 0,
      "outputs": []
    },
    {
      "metadata": {
        "id": "Te648QTRAVFv",
        "colab_type": "code",
        "colab": {
          "base_uri": "https://localhost:8080/",
          "height": 397
        },
        "outputId": "732ca4ad-978c-4337-c694-cb0db8416d59"
      },
      "cell_type": "code",
      "source": [
        "!wget https://raw.githubusercontent.com/MangoHaha/DeepLearning/master/dataset/train.tsv\n",
        "!wget https://raw.githubusercontent.com/MangoHaha/DeepLearning/master/dataset/test.tsv"
      ],
      "execution_count": 40,
      "outputs": [
        {
          "output_type": "stream",
          "text": [
            "--2018-10-28 00:26:52--  https://raw.githubusercontent.com/MangoHaha/DeepLearning/master/dataset/train.tsv\n",
            "Resolving raw.githubusercontent.com (raw.githubusercontent.com)... 151.101.0.133, 151.101.64.133, 151.101.128.133, ...\n",
            "Connecting to raw.githubusercontent.com (raw.githubusercontent.com)|151.101.0.133|:443... connected.\n",
            "HTTP request sent, awaiting response... 200 OK\n",
            "Length: 8481022 (8.1M) [text/plain]\n",
            "Saving to: ‘train.tsv’\n",
            "\n",
            "train.tsv           100%[===================>]   8.09M  29.8MB/s    in 0.3s    \n",
            "\n",
            "2018-10-28 00:26:53 (29.8 MB/s) - ‘train.tsv’ saved [8481022/8481022]\n",
            "\n",
            "--2018-10-28 00:26:53--  https://raw.githubusercontent.com/MangoHaha/DeepLearning/master/dataset/test.tsv\n",
            "Resolving raw.githubusercontent.com (raw.githubusercontent.com)... 151.101.0.133, 151.101.64.133, 151.101.128.133, ...\n",
            "Connecting to raw.githubusercontent.com (raw.githubusercontent.com)|151.101.0.133|:443... connected.\n",
            "HTTP request sent, awaiting response... 200 OK\n",
            "Length: 3367149 (3.2M) [text/plain]\n",
            "Saving to: ‘test.tsv’\n",
            "\n",
            "test.tsv            100%[===================>]   3.21M  19.3MB/s    in 0.2s    \n",
            "\n",
            "2018-10-28 00:26:54 (19.3 MB/s) - ‘test.tsv’ saved [3367149/3367149]\n",
            "\n"
          ],
          "name": "stdout"
        }
      ]
    },
    {
      "metadata": {
        "id": "ixAgECKoCuzM",
        "colab_type": "code",
        "colab": {}
      },
      "cell_type": "code",
      "source": [
        "train = pd.read_csv('./train.tsv', sep=\"\\t\")\n",
        "test = pd.read_csv('./test.tsv', sep=\"\\t\")"
      ],
      "execution_count": 0,
      "outputs": []
    },
    {
      "metadata": {
        "id": "WhRVxjvIDwJf",
        "colab_type": "code",
        "colab": {
          "base_uri": "https://localhost:8080/",
          "height": 365
        },
        "outputId": "9ff7937e-563e-4efd-8fd2-3dc4fc83b6db"
      },
      "cell_type": "code",
      "source": [
        "train.head(10)"
      ],
      "execution_count": 42,
      "outputs": [
        {
          "output_type": "execute_result",
          "data": {
            "text/html": [
              "<div>\n",
              "<style scoped>\n",
              "    .dataframe tbody tr th:only-of-type {\n",
              "        vertical-align: middle;\n",
              "    }\n",
              "\n",
              "    .dataframe tbody tr th {\n",
              "        vertical-align: top;\n",
              "    }\n",
              "\n",
              "    .dataframe thead th {\n",
              "        text-align: right;\n",
              "    }\n",
              "</style>\n",
              "<table border=\"1\" class=\"dataframe\">\n",
              "  <thead>\n",
              "    <tr style=\"text-align: right;\">\n",
              "      <th></th>\n",
              "      <th>PhraseId</th>\n",
              "      <th>SentenceId</th>\n",
              "      <th>Phrase</th>\n",
              "      <th>Sentiment</th>\n",
              "    </tr>\n",
              "  </thead>\n",
              "  <tbody>\n",
              "    <tr>\n",
              "      <th>0</th>\n",
              "      <td>1</td>\n",
              "      <td>1</td>\n",
              "      <td>A series of escapades demonstrating the adage that what is good for the goose is also good for the gander , some of which occasionally amuses but none of which amounts to much of a story .</td>\n",
              "      <td>1</td>\n",
              "    </tr>\n",
              "    <tr>\n",
              "      <th>1</th>\n",
              "      <td>2</td>\n",
              "      <td>1</td>\n",
              "      <td>A series of escapades demonstrating the adage that what is good for the goose</td>\n",
              "      <td>2</td>\n",
              "    </tr>\n",
              "    <tr>\n",
              "      <th>2</th>\n",
              "      <td>3</td>\n",
              "      <td>1</td>\n",
              "      <td>A series</td>\n",
              "      <td>2</td>\n",
              "    </tr>\n",
              "    <tr>\n",
              "      <th>3</th>\n",
              "      <td>4</td>\n",
              "      <td>1</td>\n",
              "      <td>A</td>\n",
              "      <td>2</td>\n",
              "    </tr>\n",
              "    <tr>\n",
              "      <th>4</th>\n",
              "      <td>5</td>\n",
              "      <td>1</td>\n",
              "      <td>series</td>\n",
              "      <td>2</td>\n",
              "    </tr>\n",
              "    <tr>\n",
              "      <th>5</th>\n",
              "      <td>6</td>\n",
              "      <td>1</td>\n",
              "      <td>of escapades demonstrating the adage that what is good for the goose</td>\n",
              "      <td>2</td>\n",
              "    </tr>\n",
              "    <tr>\n",
              "      <th>6</th>\n",
              "      <td>7</td>\n",
              "      <td>1</td>\n",
              "      <td>of</td>\n",
              "      <td>2</td>\n",
              "    </tr>\n",
              "    <tr>\n",
              "      <th>7</th>\n",
              "      <td>8</td>\n",
              "      <td>1</td>\n",
              "      <td>escapades demonstrating the adage that what is good for the goose</td>\n",
              "      <td>2</td>\n",
              "    </tr>\n",
              "    <tr>\n",
              "      <th>8</th>\n",
              "      <td>9</td>\n",
              "      <td>1</td>\n",
              "      <td>escapades</td>\n",
              "      <td>2</td>\n",
              "    </tr>\n",
              "    <tr>\n",
              "      <th>9</th>\n",
              "      <td>10</td>\n",
              "      <td>1</td>\n",
              "      <td>demonstrating the adage that what is good for the goose</td>\n",
              "      <td>2</td>\n",
              "    </tr>\n",
              "  </tbody>\n",
              "</table>\n",
              "</div>"
            ],
            "text/plain": [
              "   PhraseId  SentenceId  \\\n",
              "0         1           1   \n",
              "1         2           1   \n",
              "2         3           1   \n",
              "3         4           1   \n",
              "4         5           1   \n",
              "5         6           1   \n",
              "6         7           1   \n",
              "7         8           1   \n",
              "8         9           1   \n",
              "9        10           1   \n",
              "\n",
              "                                                                                                                                                                                         Phrase  \\\n",
              "0  A series of escapades demonstrating the adage that what is good for the goose is also good for the gander , some of which occasionally amuses but none of which amounts to much of a story .   \n",
              "1                                                                                                                 A series of escapades demonstrating the adage that what is good for the goose   \n",
              "2                                                                                                                                                                                      A series   \n",
              "3                                                                                                                                                                                             A   \n",
              "4                                                                                                                                                                                        series   \n",
              "5                                                                                                                          of escapades demonstrating the adage that what is good for the goose   \n",
              "6                                                                                                                                                                                            of   \n",
              "7                                                                                                                             escapades demonstrating the adage that what is good for the goose   \n",
              "8                                                                                                                                                                                     escapades   \n",
              "9                                                                                                                                       demonstrating the adage that what is good for the goose   \n",
              "\n",
              "   Sentiment  \n",
              "0          1  \n",
              "1          2  \n",
              "2          2  \n",
              "3          2  \n",
              "4          2  \n",
              "5          2  \n",
              "6          2  \n",
              "7          2  \n",
              "8          2  \n",
              "9          2  "
            ]
          },
          "metadata": {
            "tags": []
          },
          "execution_count": 42
        }
      ]
    },
    {
      "metadata": {
        "id": "78peMWfREZSs",
        "colab_type": "code",
        "colab": {
          "base_uri": "https://localhost:8080/",
          "height": 588
        },
        "outputId": "925358fe-34fb-47a5-9d0b-590fc090342e"
      },
      "cell_type": "code",
      "source": [
        "train.loc[train.SentenceId == 2]"
      ],
      "execution_count": 43,
      "outputs": [
        {
          "output_type": "execute_result",
          "data": {
            "text/html": [
              "<div>\n",
              "<style scoped>\n",
              "    .dataframe tbody tr th:only-of-type {\n",
              "        vertical-align: middle;\n",
              "    }\n",
              "\n",
              "    .dataframe tbody tr th {\n",
              "        vertical-align: top;\n",
              "    }\n",
              "\n",
              "    .dataframe thead th {\n",
              "        text-align: right;\n",
              "    }\n",
              "</style>\n",
              "<table border=\"1\" class=\"dataframe\">\n",
              "  <thead>\n",
              "    <tr style=\"text-align: right;\">\n",
              "      <th></th>\n",
              "      <th>PhraseId</th>\n",
              "      <th>SentenceId</th>\n",
              "      <th>Phrase</th>\n",
              "      <th>Sentiment</th>\n",
              "    </tr>\n",
              "  </thead>\n",
              "  <tbody>\n",
              "    <tr>\n",
              "      <th>63</th>\n",
              "      <td>64</td>\n",
              "      <td>2</td>\n",
              "      <td>This quiet , introspective and entertaining independent is worth seeking .</td>\n",
              "      <td>4</td>\n",
              "    </tr>\n",
              "    <tr>\n",
              "      <th>64</th>\n",
              "      <td>65</td>\n",
              "      <td>2</td>\n",
              "      <td>This quiet , introspective and entertaining independent</td>\n",
              "      <td>3</td>\n",
              "    </tr>\n",
              "    <tr>\n",
              "      <th>65</th>\n",
              "      <td>66</td>\n",
              "      <td>2</td>\n",
              "      <td>This</td>\n",
              "      <td>2</td>\n",
              "    </tr>\n",
              "    <tr>\n",
              "      <th>66</th>\n",
              "      <td>67</td>\n",
              "      <td>2</td>\n",
              "      <td>quiet , introspective and entertaining independent</td>\n",
              "      <td>4</td>\n",
              "    </tr>\n",
              "    <tr>\n",
              "      <th>67</th>\n",
              "      <td>68</td>\n",
              "      <td>2</td>\n",
              "      <td>quiet , introspective and entertaining</td>\n",
              "      <td>3</td>\n",
              "    </tr>\n",
              "    <tr>\n",
              "      <th>68</th>\n",
              "      <td>69</td>\n",
              "      <td>2</td>\n",
              "      <td>quiet</td>\n",
              "      <td>2</td>\n",
              "    </tr>\n",
              "    <tr>\n",
              "      <th>69</th>\n",
              "      <td>70</td>\n",
              "      <td>2</td>\n",
              "      <td>, introspective and entertaining</td>\n",
              "      <td>3</td>\n",
              "    </tr>\n",
              "    <tr>\n",
              "      <th>70</th>\n",
              "      <td>71</td>\n",
              "      <td>2</td>\n",
              "      <td>introspective and entertaining</td>\n",
              "      <td>3</td>\n",
              "    </tr>\n",
              "    <tr>\n",
              "      <th>71</th>\n",
              "      <td>72</td>\n",
              "      <td>2</td>\n",
              "      <td>introspective and</td>\n",
              "      <td>3</td>\n",
              "    </tr>\n",
              "    <tr>\n",
              "      <th>72</th>\n",
              "      <td>73</td>\n",
              "      <td>2</td>\n",
              "      <td>introspective</td>\n",
              "      <td>2</td>\n",
              "    </tr>\n",
              "    <tr>\n",
              "      <th>73</th>\n",
              "      <td>74</td>\n",
              "      <td>2</td>\n",
              "      <td>and</td>\n",
              "      <td>2</td>\n",
              "    </tr>\n",
              "    <tr>\n",
              "      <th>74</th>\n",
              "      <td>75</td>\n",
              "      <td>2</td>\n",
              "      <td>entertaining</td>\n",
              "      <td>4</td>\n",
              "    </tr>\n",
              "    <tr>\n",
              "      <th>75</th>\n",
              "      <td>76</td>\n",
              "      <td>2</td>\n",
              "      <td>independent</td>\n",
              "      <td>2</td>\n",
              "    </tr>\n",
              "    <tr>\n",
              "      <th>76</th>\n",
              "      <td>77</td>\n",
              "      <td>2</td>\n",
              "      <td>is worth seeking .</td>\n",
              "      <td>3</td>\n",
              "    </tr>\n",
              "    <tr>\n",
              "      <th>77</th>\n",
              "      <td>78</td>\n",
              "      <td>2</td>\n",
              "      <td>is worth seeking</td>\n",
              "      <td>4</td>\n",
              "    </tr>\n",
              "    <tr>\n",
              "      <th>78</th>\n",
              "      <td>79</td>\n",
              "      <td>2</td>\n",
              "      <td>is worth</td>\n",
              "      <td>2</td>\n",
              "    </tr>\n",
              "    <tr>\n",
              "      <th>79</th>\n",
              "      <td>80</td>\n",
              "      <td>2</td>\n",
              "      <td>worth</td>\n",
              "      <td>2</td>\n",
              "    </tr>\n",
              "    <tr>\n",
              "      <th>80</th>\n",
              "      <td>81</td>\n",
              "      <td>2</td>\n",
              "      <td>seeking</td>\n",
              "      <td>2</td>\n",
              "    </tr>\n",
              "  </tbody>\n",
              "</table>\n",
              "</div>"
            ],
            "text/plain": [
              "    PhraseId  SentenceId  \\\n",
              "63        64           2   \n",
              "64        65           2   \n",
              "65        66           2   \n",
              "66        67           2   \n",
              "67        68           2   \n",
              "68        69           2   \n",
              "69        70           2   \n",
              "70        71           2   \n",
              "71        72           2   \n",
              "72        73           2   \n",
              "73        74           2   \n",
              "74        75           2   \n",
              "75        76           2   \n",
              "76        77           2   \n",
              "77        78           2   \n",
              "78        79           2   \n",
              "79        80           2   \n",
              "80        81           2   \n",
              "\n",
              "                                                                        Phrase  \\\n",
              "63  This quiet , introspective and entertaining independent is worth seeking .   \n",
              "64                     This quiet , introspective and entertaining independent   \n",
              "65                                                                        This   \n",
              "66                          quiet , introspective and entertaining independent   \n",
              "67                                      quiet , introspective and entertaining   \n",
              "68                                                                       quiet   \n",
              "69                                            , introspective and entertaining   \n",
              "70                                              introspective and entertaining   \n",
              "71                                                           introspective and   \n",
              "72                                                               introspective   \n",
              "73                                                                         and   \n",
              "74                                                                entertaining   \n",
              "75                                                                 independent   \n",
              "76                                                          is worth seeking .   \n",
              "77                                                            is worth seeking   \n",
              "78                                                                    is worth   \n",
              "79                                                                       worth   \n",
              "80                                                                     seeking   \n",
              "\n",
              "    Sentiment  \n",
              "63          4  \n",
              "64          3  \n",
              "65          2  \n",
              "66          4  \n",
              "67          3  \n",
              "68          2  \n",
              "69          3  \n",
              "70          3  \n",
              "71          3  \n",
              "72          2  \n",
              "73          2  \n",
              "74          4  \n",
              "75          2  \n",
              "76          3  \n",
              "77          4  \n",
              "78          2  \n",
              "79          2  \n",
              "80          2  "
            ]
          },
          "metadata": {
            "tags": []
          },
          "execution_count": 43
        }
      ]
    },
    {
      "metadata": {
        "id": "StFaLB7QEj9D",
        "colab_type": "code",
        "colab": {
          "base_uri": "https://localhost:8080/",
          "height": 52
        },
        "outputId": "ddb3d9fc-2f90-4944-8b25-acb0c7b58cbf"
      },
      "cell_type": "code",
      "source": [
        "print('Average count of phrases per sentence in train is {0:.0f}.'.format(train.groupby('SentenceId')['Phrase'].count().mean()))\n",
        "print('Average count of phrases per sentence in test is {0:.0f}.'.format(test.groupby('SentenceId')['Phrase'].count().mean()))"
      ],
      "execution_count": 44,
      "outputs": [
        {
          "output_type": "stream",
          "text": [
            "Average count of phrases per sentence in train is 18.\n",
            "Average count of phrases per sentence in test is 20.\n"
          ],
          "name": "stdout"
        }
      ]
    },
    {
      "metadata": {
        "id": "zTmqi2MpEmBA",
        "colab_type": "code",
        "colab": {
          "base_uri": "https://localhost:8080/",
          "height": 52
        },
        "outputId": "5f4f621c-7f08-49d0-b01a-47014a9b548c"
      },
      "cell_type": "code",
      "source": [
        "print('Number of phrases in train: {}. Number of sentences in train: {}.'.format(train.shape[0], len(train.SentenceId.unique())))\n",
        "print('Number of phrases in test: {}. Number of sentences in test: {}.'.format(test.shape[0], len(test.SentenceId.unique())))"
      ],
      "execution_count": 45,
      "outputs": [
        {
          "output_type": "stream",
          "text": [
            "Number of phrases in train: 156060. Number of sentences in train: 8529.\n",
            "Number of phrases in test: 66292. Number of sentences in test: 3310.\n"
          ],
          "name": "stdout"
        }
      ]
    },
    {
      "metadata": {
        "id": "Kf5Zw1MkEn8y",
        "colab_type": "code",
        "colab": {
          "base_uri": "https://localhost:8080/",
          "height": 52
        },
        "outputId": "0b9a02bc-b28a-4f23-cebf-e73c46f286e7"
      },
      "cell_type": "code",
      "source": [
        "print('Average word length of phrases in train is {0:.0f}.'.format(np.mean(train['Phrase'].apply(lambda x: len(x.split())))))\n",
        "print('Average word length of phrases in test is {0:.0f}.'.format(np.mean(test['Phrase'].apply(lambda x: len(x.split())))))"
      ],
      "execution_count": 46,
      "outputs": [
        {
          "output_type": "stream",
          "text": [
            "Average word length of phrases in train is 7.\n",
            "Average word length of phrases in test is 7.\n"
          ],
          "name": "stdout"
        }
      ]
    },
    {
      "metadata": {
        "id": "B2zvpzwPEqYa",
        "colab_type": "code",
        "colab": {}
      },
      "cell_type": "code",
      "source": [
        "text = ' '.join(train.loc[train.Sentiment == 4, 'Phrase'].values)\n",
        "text_trigrams = [i for i in ngrams(text.split(), 3)]"
      ],
      "execution_count": 0,
      "outputs": []
    },
    {
      "metadata": {
        "id": "Jq0Jr-e5EsTs",
        "colab_type": "code",
        "colab": {
          "base_uri": "https://localhost:8080/",
          "height": 535
        },
        "outputId": "4f5ab9e5-193d-4f11-cac1-c28e9cd53baa"
      },
      "cell_type": "code",
      "source": [
        "Counter(text_trigrams).most_common(30)"
      ],
      "execution_count": 48,
      "outputs": [
        {
          "output_type": "execute_result",
          "data": {
            "text/plain": [
              "[(('one', 'of', 'the'), 199),\n",
              " (('of', 'the', 'year'), 103),\n",
              " (('.', 'is', 'a'), 87),\n",
              " (('of', 'the', 'best'), 80),\n",
              " (('of', 'the', 'most'), 70),\n",
              " (('is', 'one', 'of'), 50),\n",
              " (('One', 'of', 'the'), 43),\n",
              " ((',', 'and', 'the'), 40),\n",
              " (('the', 'year', \"'s\"), 38),\n",
              " (('It', \"'s\", 'a'), 38),\n",
              " (('it', \"'s\", 'a'), 37),\n",
              " (('.', \"'s\", 'a'), 37),\n",
              " (('a', 'movie', 'that'), 35),\n",
              " (('the', 'edge', 'of'), 34),\n",
              " (('the', 'kind', 'of'), 33),\n",
              " (('of', 'your', 'seat'), 33),\n",
              " (('the', 'film', 'is'), 31),\n",
              " ((',', 'this', 'is'), 31),\n",
              " (('the', 'film', \"'s\"), 31),\n",
              " ((',', 'the', 'film'), 30),\n",
              " (('film', 'that', 'is'), 30),\n",
              " (('as', 'one', 'of'), 30),\n",
              " (('edge', 'of', 'your'), 29),\n",
              " ((',', 'it', \"'s\"), 27),\n",
              " (('a', 'film', 'that'), 27),\n",
              " (('as', 'well', 'as'), 27),\n",
              " ((',', 'funny', ','), 25),\n",
              " ((',', 'but', 'it'), 23),\n",
              " (('films', 'of', 'the'), 23),\n",
              " (('some', 'of', 'the'), 23)]"
            ]
          },
          "metadata": {
            "tags": []
          },
          "execution_count": 48
        }
      ]
    },
    {
      "metadata": {
        "id": "r8OLnobGEuts",
        "colab_type": "code",
        "colab": {
          "base_uri": "https://localhost:8080/",
          "height": 535
        },
        "outputId": "2c940561-687f-4123-e911-47dd7cfee3ab"
      },
      "cell_type": "code",
      "source": [
        "text = ' '.join(train.loc[train.Sentiment == 4, 'Phrase'].values)\n",
        "text = [i for i in text.split() if i not in stopwords.words('english')]\n",
        "text_trigrams = [i for i in ngrams(text, 3)]\n",
        "Counter(text_trigrams).most_common(30)"
      ],
      "execution_count": 53,
      "outputs": [
        {
          "output_type": "execute_result",
          "data": {
            "text/plain": [
              "[((',', 'funny', ','), 33),\n",
              " (('one', 'year', \"'s\"), 28),\n",
              " (('year', \"'s\", 'best'), 26),\n",
              " (('movies', 'ever', 'made'), 19),\n",
              " ((',', 'solid', 'cast'), 19),\n",
              " (('solid', 'cast', ','), 18),\n",
              " ((\"'ve\", 'ever', 'seen'), 16),\n",
              " (('.', 'It', \"'s\"), 16),\n",
              " ((',', 'making', 'one'), 15),\n",
              " (('best', 'films', 'year'), 15),\n",
              " ((',', 'touching', ','), 15),\n",
              " (('exquisite', 'acting', ','), 15),\n",
              " (('acting', ',', 'inventive'), 14),\n",
              " ((',', 'inventive', 'screenplay'), 14),\n",
              " (('jaw-dropping', 'action', 'sequences'), 14),\n",
              " (('good', 'acting', ','), 14),\n",
              " ((\"'s\", 'best', 'films'), 14),\n",
              " (('I', \"'ve\", 'seen'), 14),\n",
              " (('funny', ',', 'even'), 14),\n",
              " (('best', 'war', 'movies'), 13),\n",
              " (('purely', 'enjoyable', 'satisfying'), 13),\n",
              " (('funny', ',', 'touching'), 13),\n",
              " ((',', 'smart', ','), 13),\n",
              " (('inventive', 'screenplay', ','), 13),\n",
              " (('funniest', 'jokes', 'movie'), 13),\n",
              " (('action', 'sequences', ','), 13),\n",
              " (('sequences', ',', 'striking'), 13),\n",
              " ((',', 'striking', 'villains'), 13),\n",
              " (('exquisite', 'motion', 'picture'), 13),\n",
              " (('war', 'movies', 'ever'), 12)]"
            ]
          },
          "metadata": {
            "tags": []
          },
          "execution_count": 53
        }
      ]
    },
    {
      "metadata": {
        "id": "GQ7N3WClFKHf",
        "colab_type": "code",
        "colab": {}
      },
      "cell_type": "code",
      "source": [
        "tokenizer = TweetTokenizer()"
      ],
      "execution_count": 0,
      "outputs": []
    }
  ]
}